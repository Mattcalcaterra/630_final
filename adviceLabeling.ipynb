{
 "cells": [
  {
   "cell_type": "code",
   "execution_count": 1,
   "metadata": {},
   "outputs": [],
   "source": [
    "# Load base packages\n",
    "import pandas as pd\n",
    "import numpy as np\n",
    "import matplotlib.pyplot as plt\n",
    "import seaborn as sns\n",
    "import os\n",
    "from tqdm import tqdm\n",
    "\n",
    "# load stats tools\n",
    "from scipy import stats\n",
    "\n",
    "# load dataset tools\n",
    "import datasets\n",
    "\n",
    "# preprocessing tools\n",
    "from sklearn.preprocessing import OneHotEncoder\n",
    "from sklearn.feature_extraction.text import TfidfVectorizer\n",
    "\n",
    "# load models\n",
    "from sklearn.linear_model import LogisticRegression\n",
    "import torch\n",
    "from transformers import (\n",
    "    RobertaTokenizer,\n",
    "    RobertaForSequenceClassification,\n",
    "    Trainer,\n",
    "    TrainingArguments,\n",
    ")\n",
    "from transformers import EvalPrediction\n",
    "\n",
    "# load eval tools\n",
    "from sklearn.model_selection import train_test_split\n",
    "from sklearn.metrics import precision_recall_fscore_support"
   ]
  },
  {
   "cell_type": "markdown",
   "metadata": {},
   "source": [
    "# Load Data"
   ]
  },
  {
   "cell_type": "code",
   "execution_count": 2,
   "metadata": {},
   "outputs": [],
   "source": [
    "anno_df = pd.read_csv(\"data/AnnotatedData/AnnotatedDUGData.tsv\", sep=\"\\t\")\n",
    "load_shape = anno_df.shape"
   ]
  },
  {
   "cell_type": "markdown",
   "metadata": {},
   "source": [
    "# Prepare data"
   ]
  },
  {
   "cell_type": "code",
   "execution_count": 3,
   "metadata": {},
   "outputs": [],
   "source": [
    "# we will drop the columns which we are not interested in\n",
    "anno_df = anno_df[\n",
    "    [\n",
    "        \"Drug number\",\n",
    "        \"Line number\",\n",
    "        \"Advice Text\",\n",
    "        \"AdviceTag1\",\n",
    "        \"AdviceTag2\",\n",
    "        \"AdviceTag3\",\n",
    "        \"AdviceTag4\",\n",
    "    ]\n",
    "]"
   ]
  },
  {
   "cell_type": "markdown",
   "metadata": {},
   "source": [
    "## Extract label_ids"
   ]
  },
  {
   "cell_type": "code",
   "execution_count": 4,
   "metadata": {},
   "outputs": [
    {
     "data": {
      "text/plain": [
       "8"
      ]
     },
     "execution_count": 4,
     "metadata": {},
     "output_type": "execute_result"
    }
   ],
   "source": [
    "labels = (\n",
    "    anno_df[[\"AdviceTag1\", \"AdviceTag2\", \"AdviceTag3\", \"AdviceTag4\"]]\n",
    "    .fillna(\"\")\n",
    "    .astype(str)\n",
    ")\n",
    "\n",
    "label_ids = list(set(labels.values.flatten()))\n",
    "\n",
    "# remove the empty string\n",
    "label_ids.remove(\"\")\n",
    "\n",
    "\n",
    "n_label_ids = len(label_ids)\n",
    "n_label_ids"
   ]
  },
  {
   "cell_type": "markdown",
   "metadata": {},
   "source": [
    "## Encode advice labels"
   ]
  },
  {
   "cell_type": "code",
   "execution_count": 5,
   "metadata": {},
   "outputs": [
    {
     "data": {
      "text/html": [
       "<div>\n",
       "<style scoped>\n",
       "    .dataframe tbody tr th:only-of-type {\n",
       "        vertical-align: middle;\n",
       "    }\n",
       "\n",
       "    .dataframe tbody tr th {\n",
       "        vertical-align: top;\n",
       "    }\n",
       "\n",
       "    .dataframe thead th {\n",
       "        text-align: right;\n",
       "    }\n",
       "</style>\n",
       "<table border=\"1\" class=\"dataframe\">\n",
       "  <thead>\n",
       "    <tr style=\"text-align: right;\">\n",
       "      <th></th>\n",
       "      <th>Drug number</th>\n",
       "      <th>Line number</th>\n",
       "      <th>Advice Text</th>\n",
       "      <th>Activity or lifestyle related</th>\n",
       "      <th>Drug administration related</th>\n",
       "      <th>Disease or symptom related</th>\n",
       "      <th>Exercise related</th>\n",
       "      <th>Temporal</th>\n",
       "      <th>Other drugs related</th>\n",
       "      <th>Pregnancy related</th>\n",
       "      <th>Food or beverage related</th>\n",
       "    </tr>\n",
       "  </thead>\n",
       "  <tbody>\n",
       "    <tr>\n",
       "      <th>0</th>\n",
       "      <td>0</td>\n",
       "      <td>34</td>\n",
       "      <td>To reduce the risk of dizziness and lightheade...</td>\n",
       "      <td>1</td>\n",
       "      <td>0</td>\n",
       "      <td>0</td>\n",
       "      <td>0</td>\n",
       "      <td>0</td>\n",
       "      <td>0</td>\n",
       "      <td>0</td>\n",
       "      <td>0</td>\n",
       "    </tr>\n",
       "    <tr>\n",
       "      <th>1</th>\n",
       "      <td>0</td>\n",
       "      <td>38</td>\n",
       "      <td>This medication may rarely make your blood sug...</td>\n",
       "      <td>0</td>\n",
       "      <td>0</td>\n",
       "      <td>1</td>\n",
       "      <td>0</td>\n",
       "      <td>0</td>\n",
       "      <td>0</td>\n",
       "      <td>0</td>\n",
       "      <td>0</td>\n",
       "    </tr>\n",
       "    <tr>\n",
       "      <th>2</th>\n",
       "      <td>0</td>\n",
       "      <td>43</td>\n",
       "      <td>This medication may rarely cause a condition k...</td>\n",
       "      <td>0</td>\n",
       "      <td>0</td>\n",
       "      <td>1</td>\n",
       "      <td>0</td>\n",
       "      <td>0</td>\n",
       "      <td>0</td>\n",
       "      <td>0</td>\n",
       "      <td>0</td>\n",
       "    </tr>\n",
       "    <tr>\n",
       "      <th>3</th>\n",
       "      <td>0</td>\n",
       "      <td>64</td>\n",
       "      <td>This drug may make you dizzy or drowsy or caus...</td>\n",
       "      <td>1</td>\n",
       "      <td>0</td>\n",
       "      <td>1</td>\n",
       "      <td>0</td>\n",
       "      <td>0</td>\n",
       "      <td>0</td>\n",
       "      <td>0</td>\n",
       "      <td>0</td>\n",
       "    </tr>\n",
       "    <tr>\n",
       "      <th>4</th>\n",
       "      <td>0</td>\n",
       "      <td>66</td>\n",
       "      <td>Avoid alcoholic beverages.</td>\n",
       "      <td>0</td>\n",
       "      <td>0</td>\n",
       "      <td>0</td>\n",
       "      <td>0</td>\n",
       "      <td>0</td>\n",
       "      <td>0</td>\n",
       "      <td>0</td>\n",
       "      <td>1</td>\n",
       "    </tr>\n",
       "  </tbody>\n",
       "</table>\n",
       "</div>"
      ],
      "text/plain": [
       "   Drug number  Line number  \\\n",
       "0            0           34   \n",
       "1            0           38   \n",
       "2            0           43   \n",
       "3            0           64   \n",
       "4            0           66   \n",
       "\n",
       "                                         Advice Text  \\\n",
       "0  To reduce the risk of dizziness and lightheade...   \n",
       "1  This medication may rarely make your blood sug...   \n",
       "2  This medication may rarely cause a condition k...   \n",
       "3  This drug may make you dizzy or drowsy or caus...   \n",
       "4                         Avoid alcoholic beverages.   \n",
       "\n",
       "   Activity or lifestyle related  Drug administration related  \\\n",
       "0                              1                            0   \n",
       "1                              0                            0   \n",
       "2                              0                            0   \n",
       "3                              1                            0   \n",
       "4                              0                            0   \n",
       "\n",
       "   Disease or symptom related  Exercise related  Temporal  \\\n",
       "0                           0                 0         0   \n",
       "1                           1                 0         0   \n",
       "2                           1                 0         0   \n",
       "3                           1                 0         0   \n",
       "4                           0                 0         0   \n",
       "\n",
       "   Other drugs related  Pregnancy related  Food or beverage related  \n",
       "0                    0                  0                         0  \n",
       "1                    0                  0                         0  \n",
       "2                    0                  0                         0  \n",
       "3                    0                  0                         0  \n",
       "4                    0                  0                         1  "
      ]
     },
     "execution_count": 5,
     "metadata": {},
     "output_type": "execute_result"
    }
   ],
   "source": [
    "# Create new columns for each unique tag and initialize them with 0\n",
    "for lab in label_ids:\n",
    "    anno_df[lab] = 0\n",
    "\n",
    "# Update the values to 1 where the tag is present\n",
    "for lab in label_ids:\n",
    "    mask = labels.apply(lambda row: lab in row.values, axis=1)\n",
    "    anno_df.loc[mask, lab] = 1\n",
    "\n",
    "# Drop the original AdviceTag columns\n",
    "anno_df.drop(\n",
    "    columns=[\"AdviceTag1\", \"AdviceTag2\", \"AdviceTag3\", \"AdviceTag4\"],\n",
    "    inplace=True,\n",
    ")\n",
    "\n",
    "# Save the transformed data to a new file\n",
    "anno_df.head()"
   ]
  },
  {
   "cell_type": "markdown",
   "metadata": {},
   "source": [
    "### Ensure the encoding was correct"
   ]
  },
  {
   "cell_type": "code",
   "execution_count": 6,
   "metadata": {},
   "outputs": [],
   "source": [
    "assert anno_df.shape[0] == load_shape[0], \"Mismatch in number of rows\""
   ]
  },
  {
   "cell_type": "markdown",
   "metadata": {},
   "source": [
    "# Baseline Predictions\n"
   ]
  },
  {
   "cell_type": "markdown",
   "metadata": {},
   "source": [
    "Two baselines will be tested with for the multilabel classification task.\n",
    "\n",
    "The  baseline will be a random baseline, where the labels are randomly assigned to the advice text.\n",
    "\n",
    "The baseline will be evaluated using the F1 score, Precision, and Recall."
   ]
  },
  {
   "cell_type": "code",
   "execution_count": 7,
   "metadata": {},
   "outputs": [],
   "source": [
    "def rand_baseline_pred(dataset, n_labels=8):\n",
    "    \"\"\"\n",
    "    Randomly predicts a label for each example in the dataset.\n",
    "\n",
    "    Args:\n",
    "        dataset (datasets.Dataset): The dataset to predict labels for.\n",
    "\n",
    "    Returns:\n",
    "        np.ndarray: The predicted labels.\n",
    "    \"\"\"\n",
    "\n",
    "    return np.random.randint(0, 2, size=(len(dataset), n_labels))"
   ]
  },
  {
   "cell_type": "markdown",
   "metadata": {},
   "source": [
    "## Load data into dataset"
   ]
  },
  {
   "cell_type": "code",
   "execution_count": 8,
   "metadata": {},
   "outputs": [],
   "source": [
    "multi_label = datasets.Dataset.from_pandas(anno_df)"
   ]
  },
  {
   "cell_type": "markdown",
   "metadata": {},
   "source": [
    "## Evaluate the baseline"
   ]
  },
  {
   "cell_type": "markdown",
   "metadata": {},
   "source": [
    "### Identify ground truth labels"
   ]
  },
  {
   "cell_type": "code",
   "execution_count": 9,
   "metadata": {},
   "outputs": [],
   "source": [
    "ground_truth = anno_df[label_ids].values"
   ]
  },
  {
   "cell_type": "code",
   "execution_count": 10,
   "metadata": {},
   "outputs": [],
   "source": [
    "assert ground_truth.shape[0] == load_shape[0], \"Mismatch in number of rows\"\n",
    "assert ground_truth.shape[1] == n_label_ids, \"Mismatch in number of columns\""
   ]
  },
  {
   "cell_type": "markdown",
   "metadata": {},
   "source": [
    "### Make predictions and evaluate"
   ]
  },
  {
   "cell_type": "markdown",
   "metadata": {},
   "source": [
    "#### Random Baseline"
   ]
  },
  {
   "cell_type": "code",
   "execution_count": 11,
   "metadata": {},
   "outputs": [
    {
     "name": "stdout",
     "output_type": "stream",
     "text": [
      "Random Precision: 0.210604929051531, Recall: 0.5251396648044693, F1: 0.30063965884861404\n"
     ]
    }
   ],
   "source": [
    "# make predictions\n",
    "rand_preds = rand_baseline_pred(multi_label)\n",
    "# print(rand_preds.shape)\n",
    "precision, recall, f1, _ = precision_recall_fscore_support(\n",
    "    ground_truth, rand_preds, average=\"micro\"\n",
    ")\n",
    "print(f\"Random Precision: {precision}, Recall: {recall}, F1: {f1}\")"
   ]
  },
  {
   "cell_type": "code",
   "execution_count": null,
   "metadata": {},
   "outputs": [],
   "source": [
    "model_results = []"
   ]
  },
  {
   "cell_type": "code",
   "execution_count": null,
   "metadata": {},
   "outputs": [],
   "source": [
    "# save baseline\n",
    "model_results.append(\n",
    "    {\n",
    "        \"model\": \"Random Baseline\",\n",
    "        \"precision\": precision,\n",
    "        \"recall\": recall,\n",
    "        \"f1\": f1,\n",
    "    }\n",
    ")"
   ]
  },
  {
   "cell_type": "markdown",
   "metadata": {},
   "source": [
    "# Train, Test Split"
   ]
  },
  {
   "cell_type": "code",
   "execution_count": 12,
   "metadata": {},
   "outputs": [
    {
     "data": {
      "text/plain": [
       "Index(['Drug number', 'Line number', 'Advice Text',\n",
       "       'Activity or lifestyle related', 'Drug administration related',\n",
       "       'Disease or symptom related', 'Exercise related', 'Temporal',\n",
       "       'Other drugs related', 'Pregnancy related', 'Food or beverage related'],\n",
       "      dtype='object')"
      ]
     },
     "execution_count": 12,
     "metadata": {},
     "output_type": "execute_result"
    }
   ],
   "source": [
    "anno_df.columns"
   ]
  },
  {
   "cell_type": "code",
   "execution_count": 13,
   "metadata": {},
   "outputs": [],
   "source": [
    "# Drop the unneeded columns\n",
    "anno_df.drop([\"Drug number\", \"Line number\"], axis=1, inplace=True)\n",
    "\n",
    "# Create train test split\n",
    "train, test = train_test_split(anno_df, test_size=0.2, random_state=42)"
   ]
  },
  {
   "cell_type": "markdown",
   "metadata": {},
   "source": [
    "# Binary Relevance"
   ]
  },
  {
   "cell_type": "markdown",
   "metadata": {},
   "source": [
    "For binary relevance we will encode the text using a TF-IDF vectorizer and then train a logistic regression model for each label."
   ]
  },
  {
   "cell_type": "code",
   "execution_count": 14,
   "metadata": {},
   "outputs": [
    {
     "data": {
      "text/html": [
       "<div>\n",
       "<style scoped>\n",
       "    .dataframe tbody tr th:only-of-type {\n",
       "        vertical-align: middle;\n",
       "    }\n",
       "\n",
       "    .dataframe tbody tr th {\n",
       "        vertical-align: top;\n",
       "    }\n",
       "\n",
       "    .dataframe thead th {\n",
       "        text-align: right;\n",
       "    }\n",
       "</style>\n",
       "<table border=\"1\" class=\"dataframe\">\n",
       "  <thead>\n",
       "    <tr style=\"text-align: right;\">\n",
       "      <th></th>\n",
       "      <th>Advice Text</th>\n",
       "      <th>Activity or lifestyle related</th>\n",
       "      <th>Drug administration related</th>\n",
       "      <th>Disease or symptom related</th>\n",
       "      <th>Exercise related</th>\n",
       "      <th>Temporal</th>\n",
       "      <th>Other drugs related</th>\n",
       "      <th>Pregnancy related</th>\n",
       "      <th>Food or beverage related</th>\n",
       "    </tr>\n",
       "  </thead>\n",
       "  <tbody>\n",
       "    <tr>\n",
       "      <th>78</th>\n",
       "      <td>Some products that may interact with this drug...</td>\n",
       "      <td>0</td>\n",
       "      <td>0</td>\n",
       "      <td>0</td>\n",
       "      <td>0</td>\n",
       "      <td>0</td>\n",
       "      <td>1</td>\n",
       "      <td>0</td>\n",
       "      <td>0</td>\n",
       "    </tr>\n",
       "    <tr>\n",
       "      <th>29</th>\n",
       "      <td>Beta-blocker medications (such as metoprolol, ...</td>\n",
       "      <td>0</td>\n",
       "      <td>0</td>\n",
       "      <td>1</td>\n",
       "      <td>0</td>\n",
       "      <td>0</td>\n",
       "      <td>1</td>\n",
       "      <td>0</td>\n",
       "      <td>0</td>\n",
       "    </tr>\n",
       "    <tr>\n",
       "      <th>280</th>\n",
       "      <td>Wash your hands after applying the patch.</td>\n",
       "      <td>1</td>\n",
       "      <td>1</td>\n",
       "      <td>0</td>\n",
       "      <td>0</td>\n",
       "      <td>0</td>\n",
       "      <td>0</td>\n",
       "      <td>0</td>\n",
       "      <td>0</td>\n",
       "    </tr>\n",
       "    <tr>\n",
       "      <th>507</th>\n",
       "      <td>Lithium passes into breast milk and may have u...</td>\n",
       "      <td>0</td>\n",
       "      <td>0</td>\n",
       "      <td>0</td>\n",
       "      <td>0</td>\n",
       "      <td>0</td>\n",
       "      <td>0</td>\n",
       "      <td>1</td>\n",
       "      <td>0</td>\n",
       "    </tr>\n",
       "    <tr>\n",
       "      <th>652</th>\n",
       "      <td>Limit alcoholic beverages.</td>\n",
       "      <td>0</td>\n",
       "      <td>0</td>\n",
       "      <td>0</td>\n",
       "      <td>0</td>\n",
       "      <td>0</td>\n",
       "      <td>0</td>\n",
       "      <td>0</td>\n",
       "      <td>1</td>\n",
       "    </tr>\n",
       "  </tbody>\n",
       "</table>\n",
       "</div>"
      ],
      "text/plain": [
       "                                           Advice Text  \\\n",
       "78   Some products that may interact with this drug...   \n",
       "29   Beta-blocker medications (such as metoprolol, ...   \n",
       "280          Wash your hands after applying the patch.   \n",
       "507  Lithium passes into breast milk and may have u...   \n",
       "652                         Limit alcoholic beverages.   \n",
       "\n",
       "     Activity or lifestyle related  Drug administration related  \\\n",
       "78                               0                            0   \n",
       "29                               0                            0   \n",
       "280                              1                            1   \n",
       "507                              0                            0   \n",
       "652                              0                            0   \n",
       "\n",
       "     Disease or symptom related  Exercise related  Temporal  \\\n",
       "78                            0                 0         0   \n",
       "29                            1                 0         0   \n",
       "280                           0                 0         0   \n",
       "507                           0                 0         0   \n",
       "652                           0                 0         0   \n",
       "\n",
       "     Other drugs related  Pregnancy related  Food or beverage related  \n",
       "78                     1                  0                         0  \n",
       "29                     1                  0                         0  \n",
       "280                    0                  0                         0  \n",
       "507                    0                  1                         0  \n",
       "652                    0                  0                         1  "
      ]
     },
     "execution_count": 14,
     "metadata": {},
     "output_type": "execute_result"
    }
   ],
   "source": [
    "# look at our data\n",
    "train.head()"
   ]
  },
  {
   "cell_type": "markdown",
   "metadata": {},
   "source": [
    "## Data encoding with TF-IDF"
   ]
  },
  {
   "cell_type": "code",
   "execution_count": 15,
   "metadata": {},
   "outputs": [
    {
     "data": {
      "text/plain": [
       "Index(['Activity or lifestyle related', 'Drug administration related',\n",
       "       'Disease or symptom related', 'Exercise related', 'Temporal',\n",
       "       'Other drugs related', 'Pregnancy related', 'Food or beverage related'],\n",
       "      dtype='object')"
      ]
     },
     "execution_count": 15,
     "metadata": {},
     "output_type": "execute_result"
    }
   ],
   "source": [
    "# Initialize the vectorizer\n",
    "vectorizer = TfidfVectorizer(max_features=5000)\n",
    "\n",
    "# Fit and transform the train data\n",
    "X_train = vectorizer.fit_transform(train[\"Advice Text\"])\n",
    "\n",
    "# Transform the test data\n",
    "X_test = vectorizer.transform(test[\"Advice Text\"])\n",
    "\n",
    "label_ids = train.columns[1:]\n",
    "label_ids"
   ]
  },
  {
   "cell_type": "markdown",
   "metadata": {},
   "source": [
    "### Training"
   ]
  },
  {
   "cell_type": "code",
   "execution_count": 16,
   "metadata": {},
   "outputs": [],
   "source": [
    "from sklearn.svm import LinearSVC\n",
    "from sklearn.neighbors import KNeighborsClassifier\n",
    "\n",
    "# Initialize the model\n",
    "\n",
    "\n",
    "\n",
    "lr = LogisticRegression(max_iter=1000)\n",
    "svc = LinearSVC(max_iter=1000)\n",
    "kn = KNeighborsClassifier(n_neighbors=3)\n",
    "\n",
    "models = [\n",
    "    (\"Logistic Regression\", lr),\n",
    "    (\"Linear SVC\", svc),\n",
    "    (\"K-Nearest Neighbors\", kn),\n",
    "]"
   ]
  },
  {
   "cell_type": "code",
   "execution_count": 18,
   "metadata": {},
   "outputs": [
    {
     "name": "stdout",
     "output_type": "stream",
     "text": [
      "Training model for Logistic Regression: Activity or lifestyle related\n",
      "Training model for Logistic Regression: Drug administration related\n",
      "Training model for Logistic Regression: Disease or symptom related\n",
      "Training model for Logistic Regression: Exercise related\n",
      "Training model for Logistic Regression: Temporal\n",
      "Training model for Logistic Regression: Other drugs related\n",
      "Training model for Logistic Regression: Pregnancy related\n",
      "Training model for Logistic Regression: Food or beverage related\n",
      "\n",
      "Precision: 0.8918918918918919, Recall: 0.6346153846153846, F1: 0.7415730337078652\n",
      "Training model for Linear SVC: Activity or lifestyle related\n",
      "Training model for Linear SVC: Drug administration related\n",
      "Training model for Linear SVC: Disease or symptom related\n",
      "Training model for Linear SVC: Exercise related\n",
      "Training model for Linear SVC: Temporal\n",
      "Training model for Linear SVC: Other drugs related\n",
      "Training model for Linear SVC: Pregnancy related\n",
      "Training model for Linear SVC: Food or beverage related\n",
      "\n",
      "Precision: 0.8862068965517241, Recall: 0.8237179487179487, F1: 0.8538205980066444\n",
      "Training model for K-Nearest Neighbors: Activity or lifestyle related\n"
     ]
    },
    {
     "name": "stderr",
     "output_type": "stream",
     "text": [
      "c:\\Users\\Matt\\AppData\\Local\\Programs\\Python\\Python310\\lib\\site-packages\\sklearn\\svm\\_classes.py:32: FutureWarning: The default value of `dual` will change from `True` to `'auto'` in 1.5. Set the value of `dual` explicitly to suppress the warning.\n",
      "  warnings.warn(\n",
      "c:\\Users\\Matt\\AppData\\Local\\Programs\\Python\\Python310\\lib\\site-packages\\sklearn\\svm\\_classes.py:32: FutureWarning: The default value of `dual` will change from `True` to `'auto'` in 1.5. Set the value of `dual` explicitly to suppress the warning.\n",
      "  warnings.warn(\n",
      "c:\\Users\\Matt\\AppData\\Local\\Programs\\Python\\Python310\\lib\\site-packages\\sklearn\\svm\\_classes.py:32: FutureWarning: The default value of `dual` will change from `True` to `'auto'` in 1.5. Set the value of `dual` explicitly to suppress the warning.\n",
      "  warnings.warn(\n",
      "c:\\Users\\Matt\\AppData\\Local\\Programs\\Python\\Python310\\lib\\site-packages\\sklearn\\svm\\_classes.py:32: FutureWarning: The default value of `dual` will change from `True` to `'auto'` in 1.5. Set the value of `dual` explicitly to suppress the warning.\n",
      "  warnings.warn(\n",
      "c:\\Users\\Matt\\AppData\\Local\\Programs\\Python\\Python310\\lib\\site-packages\\sklearn\\svm\\_classes.py:32: FutureWarning: The default value of `dual` will change from `True` to `'auto'` in 1.5. Set the value of `dual` explicitly to suppress the warning.\n",
      "  warnings.warn(\n",
      "c:\\Users\\Matt\\AppData\\Local\\Programs\\Python\\Python310\\lib\\site-packages\\sklearn\\svm\\_classes.py:32: FutureWarning: The default value of `dual` will change from `True` to `'auto'` in 1.5. Set the value of `dual` explicitly to suppress the warning.\n",
      "  warnings.warn(\n",
      "c:\\Users\\Matt\\AppData\\Local\\Programs\\Python\\Python310\\lib\\site-packages\\sklearn\\svm\\_classes.py:32: FutureWarning: The default value of `dual` will change from `True` to `'auto'` in 1.5. Set the value of `dual` explicitly to suppress the warning.\n",
      "  warnings.warn(\n",
      "c:\\Users\\Matt\\AppData\\Local\\Programs\\Python\\Python310\\lib\\site-packages\\sklearn\\svm\\_classes.py:32: FutureWarning: The default value of `dual` will change from `True` to `'auto'` in 1.5. Set the value of `dual` explicitly to suppress the warning.\n",
      "  warnings.warn(\n"
     ]
    },
    {
     "name": "stdout",
     "output_type": "stream",
     "text": [
      "Training model for K-Nearest Neighbors: Drug administration related\n",
      "Training model for K-Nearest Neighbors: Disease or symptom related\n",
      "Training model for K-Nearest Neighbors: Exercise related\n",
      "Training model for K-Nearest Neighbors: Temporal\n",
      "Training model for K-Nearest Neighbors: Other drugs related\n",
      "Training model for K-Nearest Neighbors: Pregnancy related\n",
      "Training model for K-Nearest Neighbors: Food or beverage related\n",
      "\n",
      "Precision: 0.8263665594855305, Recall: 0.8237179487179487, F1: 0.8250401284109149\n"
     ]
    }
   ],
   "source": [
    "for model_name, model in models:\n",
    "    results = pd.DataFrame()\n",
    "\n",
    "    for label in label_ids:\n",
    "\n",
    "        print(f\"Training model for {model_name}: {label}\")\n",
    "\n",
    "        y_train = train[label]\n",
    "\n",
    "        y_test = test[label]\n",
    "\n",
    "\n",
    "        # Train the model\n",
    "\n",
    "        model.fit(X_train, y_train)\n",
    "\n",
    "\n",
    "        # Predict the test data\n",
    "\n",
    "        preds = model.predict(X_test)\n",
    "\n",
    "\n",
    "        results[label] = preds\n",
    "\n",
    "\n",
    "    # Evaluate the model\n",
    "\n",
    "    precision, recall, f1, _ = precision_recall_fscore_support(\n",
    "        test[label_ids], results, average=\"micro\"\n",
    "    )\n",
    "\n",
    "    print(f\"\\nPrecision: {precision}, Recall: {recall}, F1: {f1}\")\n",
    "\n",
    "    model_results.append(\n",
    "        {\n",
    "            \"model\": f\"Binary Relevance - {model_name}\",\n",
    "            \"precision\": precision,\n",
    "            \"recall\": recall,\n",
    "            \"f1\": f1,\n",
    "        }\n",
    "    )"
   ]
  },
  {
   "cell_type": "code",
   "execution_count": 19,
   "metadata": {},
   "outputs": [
    {
     "data": {
      "text/plain": [
       "[{'model': 'Binary Relevance - Logistic Regression',\n",
       "  'precision': 0.8918918918918919,\n",
       "  'recall': 0.6346153846153846,\n",
       "  'f1': 0.7415730337078652},\n",
       " {'model': 'Binary Relevance - Linear SVC',\n",
       "  'precision': 0.8862068965517241,\n",
       "  'recall': 0.8237179487179487,\n",
       "  'f1': 0.8538205980066444},\n",
       " {'model': 'Binary Relevance - K-Nearest Neighbors',\n",
       "  'precision': 0.8263665594855305,\n",
       "  'recall': 0.8237179487179487,\n",
       "  'f1': 0.8250401284109149}]"
      ]
     },
     "execution_count": 19,
     "metadata": {},
     "output_type": "execute_result"
    }
   ],
   "source": [
    "model_results"
   ]
  },
  {
   "cell_type": "markdown",
   "metadata": {},
   "source": [
    "# Transformer Based Model"
   ]
  },
  {
   "cell_type": "code",
   "execution_count": 20,
   "metadata": {},
   "outputs": [],
   "source": [
    "train, val = train_test_split(train, test_size=0.3, random_state=42)"
   ]
  },
  {
   "cell_type": "code",
   "execution_count": 21,
   "metadata": {},
   "outputs": [],
   "source": [
    "model_id = \"roberta-base\""
   ]
  },
  {
   "cell_type": "markdown",
   "metadata": {},
   "source": [
    "## Define functions\n"
   ]
  },
  {
   "cell_type": "code",
   "execution_count": 22,
   "metadata": {},
   "outputs": [],
   "source": [
    "# metrics function\n",
    "def compute_metrics(eval_pred):\n",
    "    logits = eval_pred.predictions\n",
    "    labels = eval_pred.label_ids\n",
    "\n",
    "    probs = torch.sigmoid(torch.tensor(logits)).numpy()\n",
    "\n",
    "    preds = (probs > 0.5).astype(int)\n",
    "\n",
    "    precision, recall, f1, _ = precision_recall_fscore_support(\n",
    "        labels, preds, average=\"micro\"\n",
    "    )\n",
    "\n",
    "    return {\"precision\": precision, \"recall\": recall, \"f1\": f1}"
   ]
  },
  {
   "cell_type": "markdown",
   "metadata": {},
   "source": [
    "### Load data into dataset"
   ]
  },
  {
   "cell_type": "code",
   "execution_count": 23,
   "metadata": {},
   "outputs": [],
   "source": [
    "# Load into datasets\n",
    "train_dataset = datasets.Dataset.from_pandas(train, preserve_index=False)\n",
    "val_dataset = datasets.Dataset.from_pandas(val, preserve_index=False)\n",
    "test_dataset = datasets.Dataset.from_pandas(test, preserve_index=False)"
   ]
  },
  {
   "cell_type": "code",
   "execution_count": 24,
   "metadata": {},
   "outputs": [],
   "source": [
    "# rename Advice Text to text\n",
    "train_dataset = train_dataset.rename_column(\"Advice Text\", \"text\")\n",
    "val_dataset = val_dataset.rename_column(\"Advice Text\", \"text\")\n",
    "test_dataset = test_dataset.rename_column(\"Advice Text\", \"text\")"
   ]
  },
  {
   "cell_type": "markdown",
   "metadata": {},
   "source": [
    "### Tokenize and split text"
   ]
  },
  {
   "cell_type": "code",
   "execution_count": 25,
   "metadata": {},
   "outputs": [],
   "source": [
    "from transformers import AutoTokenizer\n",
    "\n",
    "tokenizer = AutoTokenizer.from_pretrained(model_id)"
   ]
  },
  {
   "cell_type": "code",
   "execution_count": 26,
   "metadata": {},
   "outputs": [],
   "source": [
    "def preprocess_text(batch, tokenizer=tokenizer):\n",
    "\n",
    "    text = batch[\"text\"]\n",
    "    inputs = tokenizer(\n",
    "        text,\n",
    "        padding=\"max_length\",\n",
    "        truncation=True,\n",
    "        max_length=512,\n",
    "        return_tensors=\"pt\",\n",
    "    )\n",
    "\n",
    "    labels = list(batch.keys())[1:]\n",
    "\n",
    "    label_array = np.zeros((len(text), len(labels)))\n",
    "\n",
    "    for i, label in enumerate(labels):\n",
    "        label_array[:, i] = batch[label]\n",
    "\n",
    "    inputs[\"labels\"] = label_array\n",
    "\n",
    "    return inputs"
   ]
  },
  {
   "cell_type": "code",
   "execution_count": 27,
   "metadata": {},
   "outputs": [
    {
     "data": {
      "application/vnd.jupyter.widget-view+json": {
       "model_id": "775ef77acca940b88f3aefeadd4a71a1",
       "version_major": 2,
       "version_minor": 0
      },
      "text/plain": [
       "Map:   0%|          | 0/562 [00:00<?, ? examples/s]"
      ]
     },
     "metadata": {},
     "output_type": "display_data"
    },
    {
     "data": {
      "application/vnd.jupyter.widget-view+json": {
       "model_id": "7068dd783f2740fdb7be3a526b00f23e",
       "version_major": 2,
       "version_minor": 0
      },
      "text/plain": [
       "Map:   0%|          | 0/242 [00:00<?, ? examples/s]"
      ]
     },
     "metadata": {},
     "output_type": "display_data"
    },
    {
     "data": {
      "application/vnd.jupyter.widget-view+json": {
       "model_id": "427a604e30a346a3ac7ff512d8bc0188",
       "version_major": 2,
       "version_minor": 0
      },
      "text/plain": [
       "Map:   0%|          | 0/201 [00:00<?, ? examples/s]"
      ]
     },
     "metadata": {},
     "output_type": "display_data"
    }
   ],
   "source": [
    "train_encodings = train_dataset.map(preprocess_text, batched=True)\n",
    "eval_encodings = val_dataset.map(preprocess_text, batched=True)\n",
    "test_encodings = test_dataset.map(preprocess_text, batched=True)"
   ]
  },
  {
   "cell_type": "code",
   "execution_count": 28,
   "metadata": {},
   "outputs": [],
   "source": [
    "# format datasets\n",
    "train_encodings.set_format(\n",
    "    type=\"torch\", columns=[\"input_ids\", \"attention_mask\", \"labels\"]\n",
    ")\n",
    "eval_encodings.set_format(\n",
    "    type=\"torch\", columns=[\"input_ids\", \"attention_mask\", \"labels\"]\n",
    ")\n",
    "test_encodings.set_format(\n",
    "    type=\"torch\", columns=[\"input_ids\", \"attention_mask\", \"labels\"]\n",
    ")"
   ]
  },
  {
   "cell_type": "markdown",
   "metadata": {},
   "source": [
    "#### Label Information"
   ]
  },
  {
   "cell_type": "code",
   "execution_count": 29,
   "metadata": {},
   "outputs": [],
   "source": [
    "class_names = anno_df.columns[1:].tolist()\n",
    "n_labels = len(class_names)\n",
    "\n",
    "id2label = {i: label for i, label in enumerate(class_names)}\n",
    "label2id = {label: i for i, label in enumerate(class_names)}"
   ]
  },
  {
   "cell_type": "markdown",
   "metadata": {},
   "source": [
    "### Train"
   ]
  },
  {
   "cell_type": "code",
   "execution_count": 30,
   "metadata": {},
   "outputs": [],
   "source": [
    "training_args = TrainingArguments(\n",
    "    output_dir=f\"./models/advice_labeling/{model_id}\",\n",
    "    num_train_epochs=3,\n",
    "    per_device_train_batch_size=8,\n",
    "    per_device_eval_batch_size=8,\n",
    "    evaluation_strategy=\"steps\",\n",
    "    eval_steps=25,\n",
    "    logging_dir=f\"./logs\",\n",
    "    logging_strategy=\"steps\",\n",
    "    logging_steps=10,\n",
    "    learning_rate=5e-5,\n",
    "    weight_decay=0.01,\n",
    "    warmup_steps=500,\n",
    "    save_strategy=\"steps\",\n",
    "    save_steps=25,\n",
    "    load_best_model_at_end=True,\n",
    "    metric_for_best_model=\"f1\",\n",
    "    save_total_limit=2,\n",
    "    report_to=\"wandb\",\n",
    ")"
   ]
  },
  {
   "cell_type": "code",
   "execution_count": 31,
   "metadata": {},
   "outputs": [
    {
     "name": "stderr",
     "output_type": "stream",
     "text": [
      "Some weights of RobertaForSequenceClassification were not initialized from the model checkpoint at roberta-base and are newly initialized: ['classifier.dense.bias', 'classifier.dense.weight', 'classifier.out_proj.bias', 'classifier.out_proj.weight']\n",
      "You should probably TRAIN this model on a down-stream task to be able to use it for predictions and inference.\n"
     ]
    }
   ],
   "source": [
    "from transformers import AutoModelForSequenceClassification\n",
    "\n",
    "model = AutoModelForSequenceClassification.from_pretrained(\n",
    "    model_id, num_labels=n_labels, id2label=id2label, label2id=label2id\n",
    ")"
   ]
  },
  {
   "cell_type": "code",
   "execution_count": 32,
   "metadata": {},
   "outputs": [
    {
     "name": "stderr",
     "output_type": "stream",
     "text": [
      "c:\\Users\\Matt\\AppData\\Local\\Programs\\Python\\Python310\\lib\\site-packages\\accelerate\\accelerator.py:432: FutureWarning: Passing the following arguments to `Accelerator` is deprecated and will be removed in version 1.0 of Accelerate: dict_keys(['dispatch_batches', 'split_batches', 'even_batches', 'use_seedable_sampler']). Please pass an `accelerate.DataLoaderConfiguration` instead: \n",
      "dataloader_config = DataLoaderConfiguration(dispatch_batches=None, split_batches=False, even_batches=True, use_seedable_sampler=True)\n",
      "  warnings.warn(\n"
     ]
    }
   ],
   "source": [
    "trainer = Trainer(\n",
    "    model=model,\n",
    "    args=training_args,\n",
    "    train_dataset=train_encodings,\n",
    "    eval_dataset=eval_encodings,\n",
    "    compute_metrics=compute_metrics,\n",
    "    tokenizer=tokenizer,\n",
    ")"
   ]
  },
  {
   "cell_type": "code",
   "execution_count": 33,
   "metadata": {},
   "outputs": [
    {
     "name": "stderr",
     "output_type": "stream",
     "text": [
      "Failed to detect the name of this notebook, you can set it manually with the WANDB_NOTEBOOK_NAME environment variable to enable code saving.\n",
      "\u001b[34m\u001b[1mwandb\u001b[0m: Currently logged in as: \u001b[33mmattcalc\u001b[0m. Use \u001b[1m`wandb login --relogin`\u001b[0m to force relogin\n"
     ]
    },
    {
     "data": {
      "text/html": [
       "wandb version 0.16.6 is available!  To upgrade, please run:\n",
       " $ pip install wandb --upgrade"
      ],
      "text/plain": [
       "<IPython.core.display.HTML object>"
      ]
     },
     "metadata": {},
     "output_type": "display_data"
    },
    {
     "data": {
      "text/html": [
       "Tracking run with wandb version 0.16.3"
      ],
      "text/plain": [
       "<IPython.core.display.HTML object>"
      ]
     },
     "metadata": {},
     "output_type": "display_data"
    },
    {
     "data": {
      "text/html": [
       "Run data is saved locally in <code>c:\\Users\\Matt\\Documents\\GitHub\\630_final\\wandb\\run-20240422_185425-wlra76p9</code>"
      ],
      "text/plain": [
       "<IPython.core.display.HTML object>"
      ]
     },
     "metadata": {},
     "output_type": "display_data"
    },
    {
     "data": {
      "text/html": [
       "Syncing run <strong><a href='https://wandb.ai/mattcalc/huggingface/runs/wlra76p9' target=\"_blank\">sandy-star-57</a></strong> to <a href='https://wandb.ai/mattcalc/huggingface' target=\"_blank\">Weights & Biases</a> (<a href='https://wandb.me/run' target=\"_blank\">docs</a>)<br/>"
      ],
      "text/plain": [
       "<IPython.core.display.HTML object>"
      ]
     },
     "metadata": {},
     "output_type": "display_data"
    },
    {
     "data": {
      "text/html": [
       " View project at <a href='https://wandb.ai/mattcalc/huggingface' target=\"_blank\">https://wandb.ai/mattcalc/huggingface</a>"
      ],
      "text/plain": [
       "<IPython.core.display.HTML object>"
      ]
     },
     "metadata": {},
     "output_type": "display_data"
    },
    {
     "data": {
      "text/html": [
       " View run at <a href='https://wandb.ai/mattcalc/huggingface/runs/wlra76p9' target=\"_blank\">https://wandb.ai/mattcalc/huggingface/runs/wlra76p9</a>"
      ],
      "text/plain": [
       "<IPython.core.display.HTML object>"
      ]
     },
     "metadata": {},
     "output_type": "display_data"
    },
    {
     "data": {
      "application/vnd.jupyter.widget-view+json": {
       "model_id": "95c5e869a3e9433f8b40d940819db745",
       "version_major": 2,
       "version_minor": 0
      },
      "text/plain": [
       "  0%|          | 0/213 [00:00<?, ?it/s]"
      ]
     },
     "metadata": {},
     "output_type": "display_data"
    },
    {
     "name": "stdout",
     "output_type": "stream",
     "text": [
      "{'loss': 0.6814, 'grad_norm': 1.322300910949707, 'learning_rate': 1.0000000000000002e-06, 'epoch': 0.14}\n",
      "{'loss': 0.6774, 'grad_norm': 0.8211584687232971, 'learning_rate': 2.0000000000000003e-06, 'epoch': 0.28}\n"
     ]
    },
    {
     "data": {
      "application/vnd.jupyter.widget-view+json": {
       "model_id": "7e12c15b78f34f7cb8cae4ab63c6d2be",
       "version_major": 2,
       "version_minor": 0
      },
      "text/plain": [
       "  0%|          | 0/31 [00:00<?, ?it/s]"
      ]
     },
     "metadata": {},
     "output_type": "display_data"
    },
    {
     "name": "stdout",
     "output_type": "stream",
     "text": [
      "{'eval_loss': 0.669487714767456, 'eval_precision': 0.19008264462809918, 'eval_recall': 0.18253968253968253, 'eval_f1': 0.18623481781376516, 'eval_runtime': 6.3708, 'eval_samples_per_second': 37.986, 'eval_steps_per_second': 4.866, 'epoch': 0.35}\n",
      "{'loss': 0.6701, 'grad_norm': 1.1724096536636353, 'learning_rate': 3e-06, 'epoch': 0.42}\n",
      "{'loss': 0.6597, 'grad_norm': 1.0626227855682373, 'learning_rate': 4.000000000000001e-06, 'epoch': 0.56}\n",
      "{'loss': 0.6429, 'grad_norm': 1.0735887289047241, 'learning_rate': 5e-06, 'epoch': 0.7}\n"
     ]
    },
    {
     "data": {
      "application/vnd.jupyter.widget-view+json": {
       "model_id": "2d0d3242eba74686a3d8b57e6e8310a1",
       "version_major": 2,
       "version_minor": 0
      },
      "text/plain": [
       "  0%|          | 0/31 [00:00<?, ?it/s]"
      ]
     },
     "metadata": {},
     "output_type": "display_data"
    },
    {
     "name": "stderr",
     "output_type": "stream",
     "text": [
      "c:\\Users\\Matt\\AppData\\Local\\Programs\\Python\\Python310\\lib\\site-packages\\sklearn\\metrics\\_classification.py:1471: UndefinedMetricWarning: Precision and F-score are ill-defined and being set to 0.0 due to no predicted samples. Use `zero_division` parameter to control this behavior.\n",
      "  _warn_prf(average, modifier, msg_start, len(result))\n"
     ]
    },
    {
     "name": "stdout",
     "output_type": "stream",
     "text": [
      "{'eval_loss': 0.6278445720672607, 'eval_precision': 0.0, 'eval_recall': 0.0, 'eval_f1': 0.0, 'eval_runtime': 11.6574, 'eval_samples_per_second': 20.759, 'eval_steps_per_second': 2.659, 'epoch': 0.7}\n",
      "{'loss': 0.6042, 'grad_norm': 1.848575234413147, 'learning_rate': 6e-06, 'epoch': 0.85}\n",
      "{'loss': 0.546, 'grad_norm': 1.4806188344955444, 'learning_rate': 7.000000000000001e-06, 'epoch': 0.99}\n"
     ]
    },
    {
     "data": {
      "application/vnd.jupyter.widget-view+json": {
       "model_id": "51298c95b1f444eaa3c732e3dfede26d",
       "version_major": 2,
       "version_minor": 0
      },
      "text/plain": [
       "  0%|          | 0/31 [00:00<?, ?it/s]"
      ]
     },
     "metadata": {},
     "output_type": "display_data"
    },
    {
     "name": "stderr",
     "output_type": "stream",
     "text": [
      "c:\\Users\\Matt\\AppData\\Local\\Programs\\Python\\Python310\\lib\\site-packages\\sklearn\\metrics\\_classification.py:1471: UndefinedMetricWarning: Precision and F-score are ill-defined and being set to 0.0 due to no predicted samples. Use `zero_division` parameter to control this behavior.\n",
      "  _warn_prf(average, modifier, msg_start, len(result))\n"
     ]
    },
    {
     "name": "stdout",
     "output_type": "stream",
     "text": [
      "{'eval_loss': 0.47369861602783203, 'eval_precision': 0.0, 'eval_recall': 0.0, 'eval_f1': 0.0, 'eval_runtime': 6.888, 'eval_samples_per_second': 35.134, 'eval_steps_per_second': 4.501, 'epoch': 1.06}\n",
      "{'loss': 0.5076, 'grad_norm': 1.4569116830825806, 'learning_rate': 8.000000000000001e-06, 'epoch': 1.13}\n",
      "{'loss': 0.4628, 'grad_norm': 1.4756183624267578, 'learning_rate': 9e-06, 'epoch': 1.27}\n",
      "{'loss': 0.4203, 'grad_norm': 1.452128529548645, 'learning_rate': 1e-05, 'epoch': 1.41}\n"
     ]
    },
    {
     "data": {
      "application/vnd.jupyter.widget-view+json": {
       "model_id": "40a7785fa57d4b07a582715a574ef6c4",
       "version_major": 2,
       "version_minor": 0
      },
      "text/plain": [
       "  0%|          | 0/31 [00:00<?, ?it/s]"
      ]
     },
     "metadata": {},
     "output_type": "display_data"
    },
    {
     "name": "stdout",
     "output_type": "stream",
     "text": [
      "{'eval_loss': 0.37027978897094727, 'eval_precision': 0.9714285714285714, 'eval_recall': 0.35978835978835977, 'eval_f1': 0.5250965250965252, 'eval_runtime': 6.5149, 'eval_samples_per_second': 37.146, 'eval_steps_per_second': 4.758, 'epoch': 1.41}\n",
      "{'loss': 0.3958, 'grad_norm': 1.5167044401168823, 'learning_rate': 1.1000000000000001e-05, 'epoch': 1.55}\n",
      "{'loss': 0.3428, 'grad_norm': 1.6159050464630127, 'learning_rate': 1.2e-05, 'epoch': 1.69}\n"
     ]
    },
    {
     "data": {
      "application/vnd.jupyter.widget-view+json": {
       "model_id": "d9f7999bb0094323bfac11cf1ae35155",
       "version_major": 2,
       "version_minor": 0
      },
      "text/plain": [
       "  0%|          | 0/31 [00:00<?, ?it/s]"
      ]
     },
     "metadata": {},
     "output_type": "display_data"
    },
    {
     "name": "stdout",
     "output_type": "stream",
     "text": [
      "{'eval_loss': 0.29794520139694214, 'eval_precision': 0.8790035587188612, 'eval_recall': 0.6534391534391535, 'eval_f1': 0.7496206373292867, 'eval_runtime': 6.7315, 'eval_samples_per_second': 35.95, 'eval_steps_per_second': 4.605, 'epoch': 1.76}\n",
      "{'loss': 0.3375, 'grad_norm': 1.6502982378005981, 'learning_rate': 1.3000000000000001e-05, 'epoch': 1.83}\n",
      "{'loss': 0.3268, 'grad_norm': 2.5229647159576416, 'learning_rate': 1.4000000000000001e-05, 'epoch': 1.97}\n",
      "{'loss': 0.2836, 'grad_norm': 1.5716149806976318, 'learning_rate': 1.5e-05, 'epoch': 2.11}\n"
     ]
    },
    {
     "data": {
      "application/vnd.jupyter.widget-view+json": {
       "model_id": "e97c822975284fa8872a556000cc9b2b",
       "version_major": 2,
       "version_minor": 0
      },
      "text/plain": [
       "  0%|          | 0/31 [00:00<?, ?it/s]"
      ]
     },
     "metadata": {},
     "output_type": "display_data"
    },
    {
     "name": "stdout",
     "output_type": "stream",
     "text": [
      "{'eval_loss': 0.2639041841030121, 'eval_precision': 0.9026845637583892, 'eval_recall': 0.7116402116402116, 'eval_f1': 0.7958579881656804, 'eval_runtime': 6.5685, 'eval_samples_per_second': 36.842, 'eval_steps_per_second': 4.719, 'epoch': 2.11}\n",
      "{'loss': 0.2581, 'grad_norm': 1.487571358680725, 'learning_rate': 1.6000000000000003e-05, 'epoch': 2.25}\n",
      "{'loss': 0.2441, 'grad_norm': 1.6025632619857788, 'learning_rate': 1.7000000000000003e-05, 'epoch': 2.39}\n"
     ]
    },
    {
     "data": {
      "application/vnd.jupyter.widget-view+json": {
       "model_id": "7a454da564ca48f3ad5900f960543aa8",
       "version_major": 2,
       "version_minor": 0
      },
      "text/plain": [
       "  0%|          | 0/31 [00:00<?, ?it/s]"
      ]
     },
     "metadata": {},
     "output_type": "display_data"
    },
    {
     "name": "stdout",
     "output_type": "stream",
     "text": [
      "{'eval_loss': 0.21694350242614746, 'eval_precision': 0.9228295819935691, 'eval_recall': 0.7592592592592593, 'eval_f1': 0.8330914368650216, 'eval_runtime': 6.4196, 'eval_samples_per_second': 37.697, 'eval_steps_per_second': 4.829, 'epoch': 2.46}\n",
      "{'loss': 0.241, 'grad_norm': 2.373704671859741, 'learning_rate': 1.8e-05, 'epoch': 2.54}\n",
      "{'loss': 0.2207, 'grad_norm': 2.2314229011535645, 'learning_rate': 1.9e-05, 'epoch': 2.68}\n",
      "{'loss': 0.2105, 'grad_norm': 1.1340749263763428, 'learning_rate': 2e-05, 'epoch': 2.82}\n"
     ]
    },
    {
     "data": {
      "application/vnd.jupyter.widget-view+json": {
       "model_id": "9d2fb14420f442ef84a002203ff853a9",
       "version_major": 2,
       "version_minor": 0
      },
      "text/plain": [
       "  0%|          | 0/31 [00:00<?, ?it/s]"
      ]
     },
     "metadata": {},
     "output_type": "display_data"
    },
    {
     "name": "stdout",
     "output_type": "stream",
     "text": [
      "{'eval_loss': 0.1949329525232315, 'eval_precision': 0.9136904761904762, 'eval_recall': 0.8121693121693122, 'eval_f1': 0.8599439775910365, 'eval_runtime': 6.3641, 'eval_samples_per_second': 38.026, 'eval_steps_per_second': 4.871, 'epoch': 2.82}\n",
      "{'loss': 0.2132, 'grad_norm': 0.9933678507804871, 'learning_rate': 2.1e-05, 'epoch': 2.96}\n",
      "{'train_runtime': 283.3404, 'train_samples_per_second': 5.95, 'train_steps_per_second': 0.752, 'train_loss': 0.4229025513353482, 'epoch': 3.0}\n"
     ]
    },
    {
     "data": {
      "text/plain": [
       "TrainOutput(global_step=213, training_loss=0.4229025513353482, metrics={'train_runtime': 283.3404, 'train_samples_per_second': 5.95, 'train_steps_per_second': 0.752, 'train_loss': 0.4229025513353482, 'epoch': 3.0})"
      ]
     },
     "execution_count": 33,
     "metadata": {},
     "output_type": "execute_result"
    }
   ],
   "source": [
    "trainer.train()"
   ]
  },
  {
   "cell_type": "code",
   "execution_count": 34,
   "metadata": {},
   "outputs": [
    {
     "data": {
      "application/vnd.jupyter.widget-view+json": {
       "model_id": "5a4f06159be84f949a5101285b0716ab",
       "version_major": 2,
       "version_minor": 0
      },
      "text/plain": [
       "  0%|          | 0/31 [00:00<?, ?it/s]"
      ]
     },
     "metadata": {},
     "output_type": "display_data"
    },
    {
     "data": {
      "text/plain": [
       "{'eval_loss': 0.1949329525232315,\n",
       " 'eval_precision': 0.9136904761904762,\n",
       " 'eval_recall': 0.8121693121693122,\n",
       " 'eval_f1': 0.8599439775910365,\n",
       " 'eval_runtime': 16.5094,\n",
       " 'eval_samples_per_second': 14.658,\n",
       " 'eval_steps_per_second': 1.878,\n",
       " 'epoch': 3.0}"
      ]
     },
     "execution_count": 34,
     "metadata": {},
     "output_type": "execute_result"
    }
   ],
   "source": [
    "trainer.evaluate()"
   ]
  },
  {
   "cell_type": "code",
   "execution_count": 35,
   "metadata": {},
   "outputs": [
    {
     "data": {
      "application/vnd.jupyter.widget-view+json": {
       "model_id": "6b696fef1c334a3eaa4bebe1273543b5",
       "version_major": 2,
       "version_minor": 0
      },
      "text/plain": [
       "  0%|          | 0/26 [00:00<?, ?it/s]"
      ]
     },
     "metadata": {},
     "output_type": "display_data"
    },
    {
     "name": "stdout",
     "output_type": "stream",
     "text": [
      "{'precision': 0.9219330855018587, 'recall': 0.7948717948717948, 'f1': 0.8537005163511188}\n"
     ]
    }
   ],
   "source": [
    "# evaluate on test set\n",
    "test_results = trainer.predict(test_encodings)\n",
    "\n",
    "test_metrics = compute_metrics(test_results)\n",
    "print(test_metrics)"
   ]
  },
  {
   "cell_type": "code",
   "execution_count": 36,
   "metadata": {},
   "outputs": [],
   "source": [
    "# add results\n",
    "model_results.append(\n",
    "    {\n",
    "        \"model\": model_id,\n",
    "        \"precision\": test_metrics[\"precision\"],\n",
    "        \"recall\": test_metrics[\"recall\"],\n",
    "        \"f1\": test_metrics[\"f1\"],\n",
    "    }\n",
    ")"
   ]
  },
  {
   "cell_type": "markdown",
   "metadata": {},
   "source": [
    "# Model Results"
   ]
  },
  {
   "cell_type": "code",
   "execution_count": 37,
   "metadata": {},
   "outputs": [],
   "source": [
    "# plot model results\n",
    "model_results_df = pd.DataFrame(model_results)\n",
    "\n",
    "# save model results\n",
    "model_results_df.to_csv(\"model_results.csv\", index=False)"
   ]
  },
  {
   "cell_type": "code",
   "execution_count": 38,
   "metadata": {},
   "outputs": [],
   "source": [
    "# melt the datafram\n",
    "model_results_melt = model_results_df.melt(id_vars=\"model\", var_name=\"metric\")"
   ]
  },
  {
   "cell_type": "code",
   "execution_count": 39,
   "metadata": {},
   "outputs": [
    {
     "name": "stderr",
     "output_type": "stream",
     "text": [
      "c:\\Users\\Matt\\AppData\\Local\\Programs\\Python\\Python310\\lib\\site-packages\\seaborn\\_oldcore.py:1498: FutureWarning: is_categorical_dtype is deprecated and will be removed in a future version. Use isinstance(dtype, CategoricalDtype) instead\n",
      "  if pd.api.types.is_categorical_dtype(vector):\n",
      "c:\\Users\\Matt\\AppData\\Local\\Programs\\Python\\Python310\\lib\\site-packages\\seaborn\\_oldcore.py:1498: FutureWarning: is_categorical_dtype is deprecated and will be removed in a future version. Use isinstance(dtype, CategoricalDtype) instead\n",
      "  if pd.api.types.is_categorical_dtype(vector):\n",
      "c:\\Users\\Matt\\AppData\\Local\\Programs\\Python\\Python310\\lib\\site-packages\\seaborn\\_oldcore.py:1498: FutureWarning: is_categorical_dtype is deprecated and will be removed in a future version. Use isinstance(dtype, CategoricalDtype) instead\n",
      "  if pd.api.types.is_categorical_dtype(vector):\n",
      "c:\\Users\\Matt\\AppData\\Local\\Programs\\Python\\Python310\\lib\\site-packages\\seaborn\\_oldcore.py:1498: FutureWarning: is_categorical_dtype is deprecated and will be removed in a future version. Use isinstance(dtype, CategoricalDtype) instead\n",
      "  if pd.api.types.is_categorical_dtype(vector):\n"
     ]
    },
    {
     "data": {
      "image/png": "[encoded data removed]",
      "text/plain": [
       "<Figure size 1000x600 with 1 Axes>"
      ]
     },
     "metadata": {},
     "output_type": "display_data"
    }
   ],
   "source": [
    "# plot\n",
    "plt.figure(figsize=(10, 6))\n",
    "sns.barplot(data=model_results_melt, x=\"model\", y=\"value\", hue=\"metric\")\n",
    "plt.title(\"Model Performance\")\n",
    "plt.ylabel(\"Score\")\n",
    "plt.xlabel(\"Model\")\n",
    "plt.xticks(rotation=45)\n",
    "plt.show()"
   ]
  },
  {
   "cell_type": "code",
   "execution_count": null,
   "metadata": {},
   "outputs": [],
   "source": []
  }
 ],
 "metadata": {
  "kernelspec": {
   "display_name": "Python 3",
   "language": "python",
   "name": "python3"
  },
  "language_info": {
   "codemirror_mode": {
    "name": "ipython",
    "version": 3
   },
   "file_extension": ".py",
   "mimetype": "text/x-python",
   "name": "python",
   "nbconvert_exporter": "python",
   "pygments_lexer": "ipython3",
   "version": "3.10.6"
  }
 },
 "nbformat": 4,
 "nbformat_minor": 2
}
