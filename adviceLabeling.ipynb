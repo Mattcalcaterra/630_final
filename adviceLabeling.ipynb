{
 "cells": [
  {
   "cell_type": "code",
   "execution_count": 1,
   "metadata": {},
   "outputs": [],
   "source": [
    "# Load base packages\n",
    "import pandas as pd\n",
    "import numpy as np\n",
    "import matplotlib.pyplot as plt\n",
    "import seaborn as sns\n",
    "import os\n",
    "from tqdm import tqdm\n",
    "\n",
    "# load stats tools\n",
    "from scipy import stats\n",
    "\n",
    "# load dataset tools\n",
    "import datasets\n",
    "\n",
    "# preprocessing tools\n",
    "from sklearn.preprocessing import OneHotEncoder\n",
    "from sklearn.feature_extraction.text import TfidfVectorizer\n",
    "\n",
    "# load models\n",
    "from sklearn.linear_model import LogisticRegression\n",
    "import torch\n",
    "from transformers import (\n",
    "    RobertaTokenizer,\n",
    "    RobertaForSequenceClassification,\n",
    "    Trainer,\n",
    "    TrainingArguments,\n",
    ")\n",
    "from transformers import EvalPrediction\n",
    "\n",
    "# load eval tools\n",
    "from sklearn.model_selection import train_test_split\n",
    "from sklearn.metrics import precision_recall_fscore_support"
   ]
  },
  {
   "cell_type": "markdown",
   "metadata": {},
   "source": [
    "# Load Data"
   ]
  },
  {
   "cell_type": "code",
   "execution_count": 2,
   "metadata": {},
   "outputs": [],
   "source": [
    "anno_df = pd.read_csv(\"data/AnnotatedData/AnnotatedDUGData.tsv\", sep=\"\\t\")\n",
    "load_shape = anno_df.shape"
   ]
  },
  {
   "cell_type": "markdown",
   "metadata": {},
   "source": [
    "# Prepare data"
   ]
  },
  {
   "cell_type": "code",
   "execution_count": 3,
   "metadata": {},
   "outputs": [],
   "source": [
    "# we will drop the columns which we are not interested in\n",
    "anno_df = anno_df[\n",
    "    [\n",
    "        \"Drug number\",\n",
    "        \"Line number\",\n",
    "        \"Advice Text\",\n",
    "        \"AdviceTag1\",\n",
    "        \"AdviceTag2\",\n",
    "        \"AdviceTag3\",\n",
    "        \"AdviceTag4\",\n",
    "    ]\n",
    "]"
   ]
  },
  {
   "cell_type": "markdown",
   "metadata": {},
   "source": [
    "## Extract label_ids"
   ]
  },
  {
   "cell_type": "code",
   "execution_count": 4,
   "metadata": {},
   "outputs": [
    {
     "data": {
      "text/plain": [
       "8"
      ]
     },
     "execution_count": 4,
     "metadata": {},
     "output_type": "execute_result"
    }
   ],
   "source": [
    "labels = (\n",
    "    anno_df[[\"AdviceTag1\", \"AdviceTag2\", \"AdviceTag3\", \"AdviceTag4\"]]\n",
    "    .fillna(\"\")\n",
    "    .astype(str)\n",
    ")\n",
    "\n",
    "label_ids = list(set(labels.values.flatten()))\n",
    "\n",
    "# remove the empty string\n",
    "label_ids.remove(\"\")\n",
    "\n",
    "\n",
    "n_label_ids = len(label_ids)\n",
    "n_label_ids"
   ]
  },
  {
   "cell_type": "markdown",
   "metadata": {},
   "source": [
    "## Encode advice labels"
   ]
  },
  {
   "cell_type": "code",
   "execution_count": 5,
   "metadata": {},
   "outputs": [
    {
     "data": {
      "text/html": [
       "<div>\n",
       "<style scoped>\n",
       "    .dataframe tbody tr th:only-of-type {\n",
       "        vertical-align: middle;\n",
       "    }\n",
       "\n",
       "    .dataframe tbody tr th {\n",
       "        vertical-align: top;\n",
       "    }\n",
       "\n",
       "    .dataframe thead th {\n",
       "        text-align: right;\n",
       "    }\n",
       "</style>\n",
       "<table border=\"1\" class=\"dataframe\">\n",
       "  <thead>\n",
       "    <tr style=\"text-align: right;\">\n",
       "      <th></th>\n",
       "      <th>Drug number</th>\n",
       "      <th>Line number</th>\n",
       "      <th>Advice Text</th>\n",
       "      <th>Drug administration related</th>\n",
       "      <th>Temporal</th>\n",
       "      <th>Disease or symptom related</th>\n",
       "      <th>Other drugs related</th>\n",
       "      <th>Pregnancy related</th>\n",
       "      <th>Activity or lifestyle related</th>\n",
       "      <th>Food or beverage related</th>\n",
       "      <th>Exercise related</th>\n",
       "    </tr>\n",
       "  </thead>\n",
       "  <tbody>\n",
       "    <tr>\n",
       "      <th>0</th>\n",
       "      <td>0</td>\n",
       "      <td>34</td>\n",
       "      <td>To reduce the risk of dizziness and lightheade...</td>\n",
       "      <td>0</td>\n",
       "      <td>0</td>\n",
       "      <td>0</td>\n",
       "      <td>0</td>\n",
       "      <td>0</td>\n",
       "      <td>1</td>\n",
       "      <td>0</td>\n",
       "      <td>0</td>\n",
       "    </tr>\n",
       "    <tr>\n",
       "      <th>1</th>\n",
       "      <td>0</td>\n",
       "      <td>38</td>\n",
       "      <td>This medication may rarely make your blood sug...</td>\n",
       "      <td>0</td>\n",
       "      <td>0</td>\n",
       "      <td>1</td>\n",
       "      <td>0</td>\n",
       "      <td>0</td>\n",
       "      <td>0</td>\n",
       "      <td>0</td>\n",
       "      <td>0</td>\n",
       "    </tr>\n",
       "    <tr>\n",
       "      <th>2</th>\n",
       "      <td>0</td>\n",
       "      <td>43</td>\n",
       "      <td>This medication may rarely cause a condition k...</td>\n",
       "      <td>0</td>\n",
       "      <td>0</td>\n",
       "      <td>1</td>\n",
       "      <td>0</td>\n",
       "      <td>0</td>\n",
       "      <td>0</td>\n",
       "      <td>0</td>\n",
       "      <td>0</td>\n",
       "    </tr>\n",
       "    <tr>\n",
       "      <th>3</th>\n",
       "      <td>0</td>\n",
       "      <td>64</td>\n",
       "      <td>This drug may make you dizzy or drowsy or caus...</td>\n",
       "      <td>0</td>\n",
       "      <td>0</td>\n",
       "      <td>1</td>\n",
       "      <td>0</td>\n",
       "      <td>0</td>\n",
       "      <td>1</td>\n",
       "      <td>0</td>\n",
       "      <td>0</td>\n",
       "    </tr>\n",
       "    <tr>\n",
       "      <th>4</th>\n",
       "      <td>0</td>\n",
       "      <td>66</td>\n",
       "      <td>Avoid alcoholic beverages.</td>\n",
       "      <td>0</td>\n",
       "      <td>0</td>\n",
       "      <td>0</td>\n",
       "      <td>0</td>\n",
       "      <td>0</td>\n",
       "      <td>0</td>\n",
       "      <td>1</td>\n",
       "      <td>0</td>\n",
       "    </tr>\n",
       "  </tbody>\n",
       "</table>\n",
       "</div>"
      ],
      "text/plain": [
       "   Drug number  Line number  \\\n",
       "0            0           34   \n",
       "1            0           38   \n",
       "2            0           43   \n",
       "3            0           64   \n",
       "4            0           66   \n",
       "\n",
       "                                         Advice Text  \\\n",
       "0  To reduce the risk of dizziness and lightheade...   \n",
       "1  This medication may rarely make your blood sug...   \n",
       "2  This medication may rarely cause a condition k...   \n",
       "3  This drug may make you dizzy or drowsy or caus...   \n",
       "4                         Avoid alcoholic beverages.   \n",
       "\n",
       "   Drug administration related  Temporal  Disease or symptom related  \\\n",
       "0                            0         0                           0   \n",
       "1                            0         0                           1   \n",
       "2                            0         0                           1   \n",
       "3                            0         0                           1   \n",
       "4                            0         0                           0   \n",
       "\n",
       "   Other drugs related  Pregnancy related  Activity or lifestyle related  \\\n",
       "0                    0                  0                              1   \n",
       "1                    0                  0                              0   \n",
       "2                    0                  0                              0   \n",
       "3                    0                  0                              1   \n",
       "4                    0                  0                              0   \n",
       "\n",
       "   Food or beverage related  Exercise related  \n",
       "0                         0                 0  \n",
       "1                         0                 0  \n",
       "2                         0                 0  \n",
       "3                         0                 0  \n",
       "4                         1                 0  "
      ]
     },
     "execution_count": 5,
     "metadata": {},
     "output_type": "execute_result"
    }
   ],
   "source": [
    "# Create new columns for each unique tag and initialize them with 0\n",
    "for lab in label_ids:\n",
    "    anno_df[lab] = 0\n",
    "\n",
    "# Update the values to 1 where the tag is present\n",
    "for lab in label_ids:\n",
    "    mask = labels.apply(lambda row: lab in row.values, axis=1)\n",
    "    anno_df.loc[mask, lab] = 1\n",
    "\n",
    "# Drop the original AdviceTag columns\n",
    "anno_df.drop(\n",
    "    columns=[\"AdviceTag1\", \"AdviceTag2\", \"AdviceTag3\", \"AdviceTag4\"],\n",
    "    inplace=True,\n",
    ")\n",
    "\n",
    "# Save the transformed data to a new file\n",
    "anno_df.head()"
   ]
  },
  {
   "cell_type": "markdown",
   "metadata": {},
   "source": [
    "### Ensure the encoding was correct"
   ]
  },
  {
   "cell_type": "code",
   "execution_count": 6,
   "metadata": {},
   "outputs": [],
   "source": [
    "assert anno_df.shape[0] == load_shape[0], \"Mismatch in number of rows\""
   ]
  },
  {
   "cell_type": "markdown",
   "metadata": {},
   "source": [
    "# Baseline Predictions\n"
   ]
  },
  {
   "cell_type": "markdown",
   "metadata": {},
   "source": [
    "Two baselines will be tested with for the multilabel classification task.\n",
    "\n",
    "The  baseline will be a random baseline, where the labels are randomly assigned to the advice text.\n",
    "\n",
    "The baseline will be evaluated using the F1 score, Precision, and Recall."
   ]
  },
  {
   "cell_type": "code",
   "execution_count": 7,
   "metadata": {},
   "outputs": [],
   "source": [
    "def rand_baseline_pred(dataset, n_labels=8):\n",
    "    \"\"\"\n",
    "    Randomly predicts a label for each example in the dataset.\n",
    "\n",
    "    Args:\n",
    "        dataset (datasets.Dataset): The dataset to predict labels for.\n",
    "\n",
    "    Returns:\n",
    "        np.ndarray: The predicted labels.\n",
    "    \"\"\"\n",
    "\n",
    "    return np.random.randint(0, 2, size=(len(dataset), n_labels))"
   ]
  },
  {
   "cell_type": "markdown",
   "metadata": {},
   "source": [
    "## Load data into dataset"
   ]
  },
  {
   "cell_type": "code",
   "execution_count": 8,
   "metadata": {},
   "outputs": [],
   "source": [
    "multi_label = datasets.Dataset.from_pandas(anno_df)"
   ]
  },
  {
   "cell_type": "markdown",
   "metadata": {},
   "source": [
    "## Evaluate the baseline"
   ]
  },
  {
   "cell_type": "markdown",
   "metadata": {},
   "source": [
    "### Identify ground truth labels"
   ]
  },
  {
   "cell_type": "code",
   "execution_count": 9,
   "metadata": {},
   "outputs": [],
   "source": [
    "ground_truth = anno_df[label_ids].values"
   ]
  },
  {
   "cell_type": "code",
   "execution_count": 10,
   "metadata": {},
   "outputs": [],
   "source": [
    "assert ground_truth.shape[0] == load_shape[0], \"Mismatch in number of rows\"\n",
    "assert ground_truth.shape[1] == n_label_ids, \"Mismatch in number of columns\""
   ]
  },
  {
   "cell_type": "markdown",
   "metadata": {},
   "source": [
    "### Make predictions and evaluate"
   ]
  },
  {
   "cell_type": "markdown",
   "metadata": {},
   "source": [
    "#### Random Baseline"
   ]
  },
  {
   "cell_type": "code",
   "execution_count": 11,
   "metadata": {},
   "outputs": [
    {
     "name": "stdout",
     "output_type": "stream",
     "text": [
      "Random Precision: 0.19147325933400605, Recall: 0.47113594040968343, F1: 0.2722869955156951\n"
     ]
    }
   ],
   "source": [
    "# make predictions\n",
    "rand_preds = rand_baseline_pred(multi_label)\n",
    "# print(rand_preds.shape)\n",
    "precision, recall, f1, _ = precision_recall_fscore_support(\n",
    "    ground_truth, rand_preds, average=\"micro\"\n",
    ")\n",
    "print(f\"Random Precision: {precision}, Recall: {recall}, F1: {f1}\")"
   ]
  },
  {
   "cell_type": "markdown",
   "metadata": {},
   "source": [
    "# Train, Test Split"
   ]
  },
  {
   "cell_type": "code",
   "execution_count": 12,
   "metadata": {},
   "outputs": [
    {
     "data": {
      "text/plain": [
       "Index(['Drug number', 'Line number', 'Advice Text',\n",
       "       'Drug administration related', 'Temporal', 'Disease or symptom related',\n",
       "       'Other drugs related', 'Pregnancy related',\n",
       "       'Activity or lifestyle related', 'Food or beverage related',\n",
       "       'Exercise related'],\n",
       "      dtype='object')"
      ]
     },
     "execution_count": 12,
     "metadata": {},
     "output_type": "execute_result"
    }
   ],
   "source": [
    "anno_df.columns"
   ]
  },
  {
   "cell_type": "code",
   "execution_count": 13,
   "metadata": {},
   "outputs": [],
   "source": [
    "# Drop the unneeded columns\n",
    "anno_df.drop([\"Drug number\", \"Line number\"], axis=1, inplace=True)\n",
    "\n",
    "# Create train test split\n",
    "train, test = train_test_split(anno_df, test_size=0.2, random_state=42)"
   ]
  },
  {
   "cell_type": "markdown",
   "metadata": {},
   "source": [
    "# Binary Relevance"
   ]
  },
  {
   "cell_type": "markdown",
   "metadata": {},
   "source": [
    "For binary relevance we will encode the text using a TF-IDF vectorizer and then train a logistic regression model for each label."
   ]
  },
  {
   "cell_type": "code",
   "execution_count": 14,
   "metadata": {},
   "outputs": [
    {
     "data": {
      "text/html": [
       "<div>\n",
       "<style scoped>\n",
       "    .dataframe tbody tr th:only-of-type {\n",
       "        vertical-align: middle;\n",
       "    }\n",
       "\n",
       "    .dataframe tbody tr th {\n",
       "        vertical-align: top;\n",
       "    }\n",
       "\n",
       "    .dataframe thead th {\n",
       "        text-align: right;\n",
       "    }\n",
       "</style>\n",
       "<table border=\"1\" class=\"dataframe\">\n",
       "  <thead>\n",
       "    <tr style=\"text-align: right;\">\n",
       "      <th></th>\n",
       "      <th>Advice Text</th>\n",
       "      <th>Drug administration related</th>\n",
       "      <th>Temporal</th>\n",
       "      <th>Disease or symptom related</th>\n",
       "      <th>Other drugs related</th>\n",
       "      <th>Pregnancy related</th>\n",
       "      <th>Activity or lifestyle related</th>\n",
       "      <th>Food or beverage related</th>\n",
       "      <th>Exercise related</th>\n",
       "    </tr>\n",
       "  </thead>\n",
       "  <tbody>\n",
       "    <tr>\n",
       "      <th>78</th>\n",
       "      <td>Some products that may interact with this drug...</td>\n",
       "      <td>0</td>\n",
       "      <td>0</td>\n",
       "      <td>0</td>\n",
       "      <td>1</td>\n",
       "      <td>0</td>\n",
       "      <td>0</td>\n",
       "      <td>0</td>\n",
       "      <td>0</td>\n",
       "    </tr>\n",
       "    <tr>\n",
       "      <th>29</th>\n",
       "      <td>Beta-blocker medications (such as metoprolol, ...</td>\n",
       "      <td>0</td>\n",
       "      <td>0</td>\n",
       "      <td>1</td>\n",
       "      <td>1</td>\n",
       "      <td>0</td>\n",
       "      <td>0</td>\n",
       "      <td>0</td>\n",
       "      <td>0</td>\n",
       "    </tr>\n",
       "    <tr>\n",
       "      <th>280</th>\n",
       "      <td>Wash your hands after applying the patch.</td>\n",
       "      <td>1</td>\n",
       "      <td>0</td>\n",
       "      <td>0</td>\n",
       "      <td>0</td>\n",
       "      <td>0</td>\n",
       "      <td>1</td>\n",
       "      <td>0</td>\n",
       "      <td>0</td>\n",
       "    </tr>\n",
       "    <tr>\n",
       "      <th>507</th>\n",
       "      <td>Lithium passes into breast milk and may have u...</td>\n",
       "      <td>0</td>\n",
       "      <td>0</td>\n",
       "      <td>0</td>\n",
       "      <td>0</td>\n",
       "      <td>1</td>\n",
       "      <td>0</td>\n",
       "      <td>0</td>\n",
       "      <td>0</td>\n",
       "    </tr>\n",
       "    <tr>\n",
       "      <th>652</th>\n",
       "      <td>Limit alcoholic beverages.</td>\n",
       "      <td>0</td>\n",
       "      <td>0</td>\n",
       "      <td>0</td>\n",
       "      <td>0</td>\n",
       "      <td>0</td>\n",
       "      <td>0</td>\n",
       "      <td>1</td>\n",
       "      <td>0</td>\n",
       "    </tr>\n",
       "  </tbody>\n",
       "</table>\n",
       "</div>"
      ],
      "text/plain": [
       "                                           Advice Text  \\\n",
       "78   Some products that may interact with this drug...   \n",
       "29   Beta-blocker medications (such as metoprolol, ...   \n",
       "280          Wash your hands after applying the patch.   \n",
       "507  Lithium passes into breast milk and may have u...   \n",
       "652                         Limit alcoholic beverages.   \n",
       "\n",
       "     Drug administration related  Temporal  Disease or symptom related  \\\n",
       "78                             0         0                           0   \n",
       "29                             0         0                           1   \n",
       "280                            1         0                           0   \n",
       "507                            0         0                           0   \n",
       "652                            0         0                           0   \n",
       "\n",
       "     Other drugs related  Pregnancy related  Activity or lifestyle related  \\\n",
       "78                     1                  0                              0   \n",
       "29                     1                  0                              0   \n",
       "280                    0                  0                              1   \n",
       "507                    0                  1                              0   \n",
       "652                    0                  0                              0   \n",
       "\n",
       "     Food or beverage related  Exercise related  \n",
       "78                          0                 0  \n",
       "29                          0                 0  \n",
       "280                         0                 0  \n",
       "507                         0                 0  \n",
       "652                         1                 0  "
      ]
     },
     "execution_count": 14,
     "metadata": {},
     "output_type": "execute_result"
    }
   ],
   "source": [
    "# look at our data\n",
    "train.head()"
   ]
  },
  {
   "cell_type": "markdown",
   "metadata": {},
   "source": [
    "## Data encoding with TF-IDF"
   ]
  },
  {
   "cell_type": "code",
   "execution_count": 15,
   "metadata": {},
   "outputs": [
    {
     "data": {
      "text/plain": [
       "Index(['Drug administration related', 'Temporal', 'Disease or symptom related',\n",
       "       'Other drugs related', 'Pregnancy related',\n",
       "       'Activity or lifestyle related', 'Food or beverage related',\n",
       "       'Exercise related'],\n",
       "      dtype='object')"
      ]
     },
     "execution_count": 15,
     "metadata": {},
     "output_type": "execute_result"
    }
   ],
   "source": [
    "# Initialize the vectorizer\n",
    "vectorizer = TfidfVectorizer(max_features=5000)\n",
    "\n",
    "# Fit and transform the train data\n",
    "X_train = vectorizer.fit_transform(train[\"Advice Text\"])\n",
    "\n",
    "# Transform the test data\n",
    "X_test = vectorizer.transform(test[\"Advice Text\"])\n",
    "\n",
    "label_ids = train.columns[1:]\n",
    "label_ids"
   ]
  },
  {
   "cell_type": "markdown",
   "metadata": {},
   "source": [
    "### Training"
   ]
  },
  {
   "cell_type": "code",
   "execution_count": 16,
   "metadata": {},
   "outputs": [],
   "source": [
    "# Initialize the model\n",
    "model = LogisticRegression(max_iter=1000)"
   ]
  },
  {
   "cell_type": "code",
   "execution_count": 17,
   "metadata": {},
   "outputs": [
    {
     "name": "stdout",
     "output_type": "stream",
     "text": [
      "Training model for Drug administration related\n",
      "Precision: 1.0, Recall: 0.5333333333333333, F1: 0.6956521739130436\n",
      "Training model for Temporal\n",
      "Precision: 0.8571428571428571, Recall: 0.5142857142857142, F1: 0.6428571428571428\n",
      "Training model for Disease or symptom related\n",
      "Precision: 0.6578947368421053, Recall: 0.5208333333333334, F1: 0.5813953488372092\n",
      "Training model for Other drugs related\n",
      "Precision: 0.9310344827586207, Recall: 0.8307692307692308, F1: 0.8780487804878049\n",
      "Training model for Pregnancy related\n",
      "Precision: 1.0, Recall: 0.8636363636363636, F1: 0.9268292682926829\n",
      "Training model for Activity or lifestyle related\n",
      "Precision: 1.0, Recall: 0.38461538461538464, F1: 0.5555555555555556\n",
      "Training model for Food or beverage related\n",
      "Precision: 0.8787878787878788, Recall: 0.6904761904761905, F1: 0.7733333333333333\n",
      "Training model for Exercise related\n",
      "Precision: 0.0, Recall: 0.0, F1: 0.0\n",
      "\n",
      "Precision: 0.8918918918918919, Recall: 0.6346153846153846, F1: 0.7415730337078652\n"
     ]
    },
    {
     "name": "stderr",
     "output_type": "stream",
     "text": [
      "c:\\Users\\Matt\\AppData\\Local\\Programs\\Python\\Python310\\lib\\site-packages\\sklearn\\metrics\\_classification.py:1471: UndefinedMetricWarning: Precision and F-score are ill-defined and being set to 0.0 due to no predicted samples. Use `zero_division` parameter to control this behavior.\n",
      "  _warn_prf(average, modifier, msg_start, len(result))\n"
     ]
    }
   ],
   "source": [
    "results = pd.DataFrame()\n",
    "for label in label_ids:\n",
    "    print(f\"Training model for {label}\")\n",
    "    y_train = train[label]\n",
    "    y_test = test[label]\n",
    "\n",
    "    # Train the model\n",
    "    model.fit(X_train, y_train)\n",
    "\n",
    "    # Predict the test data\n",
    "    preds = model.predict(X_test)\n",
    "\n",
    "    # Evaluate the model\n",
    "    precision, recall, f1, _ = precision_recall_fscore_support(\n",
    "        y_test, preds, average=\"binary\"\n",
    "    )\n",
    "    print(f\"Precision: {precision}, Recall: {recall}, F1: {f1}\")\n",
    "\n",
    "    results[label] = preds\n",
    "\n",
    "# Evaluate the model\n",
    "precision, recall, f1, _ = precision_recall_fscore_support(\n",
    "    test[label_ids], results, average=\"micro\"\n",
    ")\n",
    "print(f\"\\nPrecision: {precision}, Recall: {recall}, F1: {f1}\")"
   ]
  },
  {
   "cell_type": "code",
   "execution_count": 18,
   "metadata": {},
   "outputs": [],
   "source": [
    "# store results for later\n",
    "model_results = []\n",
    "model_results.append(\n",
    "    {\n",
    "        \"model\": \"Binary Relevance LR\",\n",
    "        \"precision\": precision,\n",
    "        \"recall\": recall,\n",
    "        \"f1\": f1,\n",
    "    }\n",
    ")"
   ]
  },
  {
   "cell_type": "markdown",
   "metadata": {},
   "source": [
    "# Transformer Based Model"
   ]
  },
  {
   "cell_type": "code",
   "execution_count": 19,
   "metadata": {},
   "outputs": [],
   "source": [
    "train, val = train_test_split(train, test_size=0.3, random_state=42)"
   ]
  },
  {
   "cell_type": "code",
   "execution_count": 20,
   "metadata": {},
   "outputs": [],
   "source": [
    "model_id = \"roberta-base\""
   ]
  },
  {
   "cell_type": "markdown",
   "metadata": {},
   "source": [
    "### Load data into dataset"
   ]
  },
  {
   "cell_type": "code",
   "execution_count": 21,
   "metadata": {},
   "outputs": [],
   "source": [
    "# Load into datasets\n",
    "train_dataset = datasets.Dataset.from_pandas(train, preserve_index=False)\n",
    "val_dataset = datasets.Dataset.from_pandas(val, preserve_index=False)\n",
    "test_dataset = datasets.Dataset.from_pandas(test, preserve_index=False)"
   ]
  },
  {
   "cell_type": "code",
   "execution_count": 22,
   "metadata": {},
   "outputs": [],
   "source": [
    "# rename Advice Text to text\n",
    "train_dataset = train_dataset.rename_column(\"Advice Text\", \"text\")\n",
    "val_dataset = val_dataset.rename_column(\"Advice Text\", \"text\")\n",
    "test_dataset = test_dataset.rename_column(\"Advice Text\", \"text\")"
   ]
  },
  {
   "cell_type": "markdown",
   "metadata": {},
   "source": [
    "### Tokenize and split text"
   ]
  },
  {
   "cell_type": "code",
   "execution_count": 23,
   "metadata": {},
   "outputs": [],
   "source": [
    "tokenizer = RobertaTokenizer.from_pretrained(model_id)"
   ]
  },
  {
   "cell_type": "code",
   "execution_count": 24,
   "metadata": {},
   "outputs": [],
   "source": [
    "def preprocess_text(batch):\n",
    "\n",
    "    text = batch[\"text\"]\n",
    "    inputs = tokenizer(\n",
    "        text,\n",
    "        padding=\"max_length\",\n",
    "        truncation=True,\n",
    "        max_length=512,\n",
    "        return_tensors=\"pt\",\n",
    "    )\n",
    "\n",
    "    labels = list(batch.keys())[1:]\n",
    "\n",
    "    label_array = np.zeros((len(text), len(labels)))\n",
    "\n",
    "    for i, label in enumerate(labels):\n",
    "        label_array[:, i] = batch[label]\n",
    "\n",
    "    inputs[\"labels\"] = label_array\n",
    "\n",
    "    return inputs"
   ]
  },
  {
   "cell_type": "code",
   "execution_count": 25,
   "metadata": {},
   "outputs": [
    {
     "data": {
      "application/vnd.jupyter.widget-view+json": {
       "model_id": "acefc01ef49c48f7bfa1d651f93e9a31",
       "version_major": 2,
       "version_minor": 0
      },
      "text/plain": [
       "Map:   0%|          | 0/562 [00:00<?, ? examples/s]"
      ]
     },
     "metadata": {},
     "output_type": "display_data"
    },
    {
     "data": {
      "application/vnd.jupyter.widget-view+json": {
       "model_id": "3852d6df10d141d8a80c03c9fa958142",
       "version_major": 2,
       "version_minor": 0
      },
      "text/plain": [
       "Map:   0%|          | 0/242 [00:00<?, ? examples/s]"
      ]
     },
     "metadata": {},
     "output_type": "display_data"
    },
    {
     "data": {
      "application/vnd.jupyter.widget-view+json": {
       "model_id": "00ec901d98994ec6b99fa6df8a22d4a6",
       "version_major": 2,
       "version_minor": 0
      },
      "text/plain": [
       "Map:   0%|          | 0/201 [00:00<?, ? examples/s]"
      ]
     },
     "metadata": {},
     "output_type": "display_data"
    }
   ],
   "source": [
    "train_encodings = train_dataset.map(preprocess_text, batched=True)\n",
    "eval_encodings = val_dataset.map(preprocess_text, batched=True)\n",
    "test_encodings = test_dataset.map(preprocess_text, batched=True)"
   ]
  },
  {
   "cell_type": "code",
   "execution_count": 26,
   "metadata": {},
   "outputs": [],
   "source": [
    "# format datasets\n",
    "train_encodings.set_format(\n",
    "    type=\"torch\", columns=[\"input_ids\", \"attention_mask\", \"labels\"]\n",
    ")\n",
    "eval_encodings.set_format(\n",
    "    type=\"torch\", columns=[\"input_ids\", \"attention_mask\", \"labels\"]\n",
    ")\n",
    "test_encodings.set_format(\n",
    "    type=\"torch\", columns=[\"input_ids\", \"attention_mask\", \"labels\"]\n",
    ")"
   ]
  },
  {
   "cell_type": "code",
   "execution_count": 27,
   "metadata": {},
   "outputs": [
    {
     "name": "stdout",
     "output_type": "stream",
     "text": [
      "torch.Size([512])\n",
      "torch.Size([512])\n",
      "torch.Size([8])\n",
      "<s>If you are planning pregnancy, become pregnant, or think you may be pregnant, immediately discuss the benefits and risks of using this medication during pregnancy with your doctor.</s><pad><pad><pad><pad><pad><pad><pad><pad><pad><pad><pad><pad><pad><pad><pad><pad><pad><pad><pad><pad><pad><pad><pad><pad><pad><pad><pad><pad><pad><pad><pad><pad><pad><pad><pad><pad><pad><pad><pad><pad><pad><pad><pad><pad><pad><pad><pad><pad><pad><pad><pad><pad><pad><pad><pad><pad><pad><pad><pad><pad><pad><pad><pad><pad><pad><pad><pad><pad><pad><pad><pad><pad><pad><pad><pad><pad><pad><pad><pad><pad><pad><pad><pad><pad><pad><pad><pad><pad><pad><pad><pad><pad><pad><pad><pad><pad><pad><pad><pad><pad><pad><pad><pad><pad><pad><pad><pad><pad><pad><pad><pad><pad><pad><pad><pad><pad><pad><pad><pad><pad><pad><pad><pad><pad><pad><pad><pad><pad><pad><pad><pad><pad><pad><pad><pad><pad><pad><pad><pad><pad><pad><pad><pad><pad><pad><pad><pad><pad><pad><pad><pad><pad><pad><pad><pad><pad><pad><pad><pad><pad><pad><pad><pad><pad><pad><pad><pad><pad><pad><pad><pad><pad><pad><pad><pad><pad><pad><pad><pad><pad><pad><pad><pad><pad><pad><pad><pad><pad><pad><pad><pad><pad><pad><pad><pad><pad><pad><pad><pad><pad><pad><pad><pad><pad><pad><pad><pad><pad><pad><pad><pad><pad><pad><pad><pad><pad><pad><pad><pad><pad><pad><pad><pad><pad><pad><pad><pad><pad><pad><pad><pad><pad><pad><pad><pad><pad><pad><pad><pad><pad><pad><pad><pad><pad><pad><pad><pad><pad><pad><pad><pad><pad><pad><pad><pad><pad><pad><pad><pad><pad><pad><pad><pad><pad><pad><pad><pad><pad><pad><pad><pad><pad><pad><pad><pad><pad><pad><pad><pad><pad><pad><pad><pad><pad><pad><pad><pad><pad><pad><pad><pad><pad><pad><pad><pad><pad><pad><pad><pad><pad><pad><pad><pad><pad><pad><pad><pad><pad><pad><pad><pad><pad><pad><pad><pad><pad><pad><pad><pad><pad><pad><pad><pad><pad><pad><pad><pad><pad><pad><pad><pad><pad><pad><pad><pad><pad><pad><pad><pad><pad><pad><pad><pad><pad><pad><pad><pad><pad><pad><pad><pad><pad><pad><pad><pad><pad><pad><pad><pad><pad><pad><pad><pad><pad><pad><pad><pad><pad><pad><pad><pad><pad><pad><pad><pad><pad><pad><pad><pad><pad><pad><pad><pad><pad><pad><pad><pad><pad><pad><pad><pad><pad><pad><pad><pad><pad><pad><pad><pad><pad><pad><pad><pad><pad><pad><pad><pad><pad><pad><pad><pad><pad><pad><pad><pad><pad><pad><pad><pad><pad><pad><pad><pad><pad><pad><pad><pad><pad><pad><pad><pad><pad><pad><pad><pad><pad><pad><pad><pad><pad><pad><pad><pad><pad><pad><pad><pad><pad><pad><pad><pad><pad><pad><pad><pad><pad><pad><pad><pad><pad><pad><pad><pad><pad><pad><pad><pad><pad><pad><pad><pad><pad><pad><pad><pad><pad><pad><pad>\n"
     ]
    }
   ],
   "source": [
    "# example\n",
    "example = train_encodings[0]\n",
    "print(example[\"input_ids\"].shape)\n",
    "print(example[\"attention_mask\"].shape)\n",
    "print(example[\"labels\"].shape)\n",
    "\n",
    "print(tokenizer.decode(example[\"input_ids\"]))"
   ]
  },
  {
   "cell_type": "markdown",
   "metadata": {},
   "source": [
    "#### Label Information"
   ]
  },
  {
   "cell_type": "code",
   "execution_count": 28,
   "metadata": {},
   "outputs": [],
   "source": [
    "class_names = anno_df.columns[1:].tolist()\n",
    "n_labels = len(class_names)\n",
    "\n",
    "id2label = {i: label for i, label in enumerate(class_names)}\n",
    "label2id = {label: i for i, label in enumerate(class_names)}"
   ]
  },
  {
   "cell_type": "code",
   "execution_count": 29,
   "metadata": {},
   "outputs": [],
   "source": [
    "# metrics function\n",
    "def compute_metrics(eval_pred):\n",
    "    logits = eval_pred.predictions\n",
    "    labels = eval_pred.label_ids\n",
    "\n",
    "    probs = torch.sigmoid(torch.tensor(logits)).numpy()\n",
    "\n",
    "    preds = (probs > 0.5).astype(int)\n",
    "\n",
    "    precision, recall, f1, _ = precision_recall_fscore_support(\n",
    "        labels, preds, average=\"micro\"\n",
    "    )\n",
    "\n",
    "    return {\"precision\": precision, \"recall\": recall, \"f1\": f1}"
   ]
  },
  {
   "cell_type": "markdown",
   "metadata": {},
   "source": [
    "### Train"
   ]
  },
  {
   "cell_type": "code",
   "execution_count": 30,
   "metadata": {},
   "outputs": [],
   "source": [
    "training_args = TrainingArguments(\n",
    "    output_dir=\"./models/roberta-base\",\n",
    "    num_train_epochs=3,\n",
    "    per_device_train_batch_size=8,\n",
    "    per_device_eval_batch_size=8,\n",
    "    evaluation_strategy=\"steps\",\n",
    "    eval_steps=25,\n",
    "    logging_dir=f\"./logs\",\n",
    "    logging_strategy=\"steps\",\n",
    "    logging_steps=10,\n",
    "    learning_rate=5e-5,\n",
    "    weight_decay=0.01,\n",
    "    warmup_steps=500,\n",
    "    save_strategy=\"steps\",\n",
    "    save_steps=25,\n",
    "    load_best_model_at_end=True,\n",
    "    metric_for_best_model=\"f1\",\n",
    "    save_total_limit=2,\n",
    "    report_to=\"wandb\",\n",
    ")"
   ]
  },
  {
   "cell_type": "code",
   "execution_count": 31,
   "metadata": {},
   "outputs": [
    {
     "name": "stderr",
     "output_type": "stream",
     "text": [
      "Some weights of RobertaForSequenceClassification were not initialized from the model checkpoint at roberta-base and are newly initialized: ['classifier.dense.bias', 'classifier.dense.weight', 'classifier.out_proj.bias', 'classifier.out_proj.weight']\n",
      "You should probably TRAIN this model on a down-stream task to be able to use it for predictions and inference.\n"
     ]
    }
   ],
   "source": [
    "model = RobertaForSequenceClassification.from_pretrained(\n",
    "    model_id, num_labels=n_labels, id2label=id2label, label2id=label2id\n",
    ")"
   ]
  },
  {
   "cell_type": "code",
   "execution_count": 32,
   "metadata": {},
   "outputs": [
    {
     "name": "stderr",
     "output_type": "stream",
     "text": [
      "c:\\Users\\Matt\\AppData\\Local\\Programs\\Python\\Python310\\lib\\site-packages\\accelerate\\accelerator.py:432: FutureWarning: Passing the following arguments to `Accelerator` is deprecated and will be removed in version 1.0 of Accelerate: dict_keys(['dispatch_batches', 'split_batches', 'even_batches', 'use_seedable_sampler']). Please pass an `accelerate.DataLoaderConfiguration` instead: \n",
      "dataloader_config = DataLoaderConfiguration(dispatch_batches=None, split_batches=False, even_batches=True, use_seedable_sampler=True)\n",
      "  warnings.warn(\n"
     ]
    }
   ],
   "source": [
    "trainer = Trainer(\n",
    "    model=model,\n",
    "    args=training_args,\n",
    "    train_dataset=train_encodings,\n",
    "    eval_dataset=eval_encodings,\n",
    "    compute_metrics=compute_metrics,\n",
    "    tokenizer=tokenizer,\n",
    ")"
   ]
  },
  {
   "cell_type": "code",
   "execution_count": 33,
   "metadata": {},
   "outputs": [
    {
     "name": "stderr",
     "output_type": "stream",
     "text": [
      "Failed to detect the name of this notebook, you can set it manually with the WANDB_NOTEBOOK_NAME environment variable to enable code saving.\n",
      "\u001b[34m\u001b[1mwandb\u001b[0m: Currently logged in as: \u001b[33mmattcalc\u001b[0m. Use \u001b[1m`wandb login --relogin`\u001b[0m to force relogin\n"
     ]
    },
    {
     "data": {
      "text/html": [
       "wandb version 0.16.6 is available!  To upgrade, please run:\n",
       " $ pip install wandb --upgrade"
      ],
      "text/plain": [
       "<IPython.core.display.HTML object>"
      ]
     },
     "metadata": {},
     "output_type": "display_data"
    },
    {
     "data": {
      "text/html": [
       "Tracking run with wandb version 0.16.3"
      ],
      "text/plain": [
       "<IPython.core.display.HTML object>"
      ]
     },
     "metadata": {},
     "output_type": "display_data"
    },
    {
     "data": {
      "text/html": [
       "Run data is saved locally in <code>c:\\Users\\Matt\\Documents\\GitHub\\630_final\\wandb\\run-20240421_110918-663rvwym</code>"
      ],
      "text/plain": [
       "<IPython.core.display.HTML object>"
      ]
     },
     "metadata": {},
     "output_type": "display_data"
    },
    {
     "data": {
      "text/html": [
       "Syncing run <strong><a href='https://wandb.ai/mattcalc/huggingface/runs/663rvwym' target=\"_blank\">restful-snowball-48</a></strong> to <a href='https://wandb.ai/mattcalc/huggingface' target=\"_blank\">Weights & Biases</a> (<a href='https://wandb.me/run' target=\"_blank\">docs</a>)<br/>"
      ],
      "text/plain": [
       "<IPython.core.display.HTML object>"
      ]
     },
     "metadata": {},
     "output_type": "display_data"
    },
    {
     "data": {
      "text/html": [
       " View project at <a href='https://wandb.ai/mattcalc/huggingface' target=\"_blank\">https://wandb.ai/mattcalc/huggingface</a>"
      ],
      "text/plain": [
       "<IPython.core.display.HTML object>"
      ]
     },
     "metadata": {},
     "output_type": "display_data"
    },
    {
     "data": {
      "text/html": [
       " View run at <a href='https://wandb.ai/mattcalc/huggingface/runs/663rvwym' target=\"_blank\">https://wandb.ai/mattcalc/huggingface/runs/663rvwym</a>"
      ],
      "text/plain": [
       "<IPython.core.display.HTML object>"
      ]
     },
     "metadata": {},
     "output_type": "display_data"
    },
    {
     "data": {
      "application/vnd.jupyter.widget-view+json": {
       "model_id": "570fc049df524b02bf9dee4d94897693",
       "version_major": 2,
       "version_minor": 0
      },
      "text/plain": [
       "  0%|          | 0/213 [00:00<?, ?it/s]"
      ]
     },
     "metadata": {},
     "output_type": "display_data"
    },
    {
     "name": "stdout",
     "output_type": "stream",
     "text": [
      "{'loss': 0.6951, 'grad_norm': 1.4393723011016846, 'learning_rate': 1.0000000000000002e-06, 'epoch': 0.14}\n",
      "{'loss': 0.6903, 'grad_norm': 0.8597822189331055, 'learning_rate': 2.0000000000000003e-06, 'epoch': 0.28}\n"
     ]
    },
    {
     "data": {
      "application/vnd.jupyter.widget-view+json": {
       "model_id": "7d5311584a304e23ba2cec862400e965",
       "version_major": 2,
       "version_minor": 0
      },
      "text/plain": [
       "  0%|          | 0/31 [00:00<?, ?it/s]"
      ]
     },
     "metadata": {},
     "output_type": "display_data"
    },
    {
     "name": "stdout",
     "output_type": "stream",
     "text": [
      "{'eval_loss': 0.6801167726516724, 'eval_precision': 0.197098976109215, 'eval_recall': 0.6111111111111112, 'eval_f1': 0.2980645161290323, 'eval_runtime': 4.9229, 'eval_samples_per_second': 49.158, 'eval_steps_per_second': 6.297, 'epoch': 0.35}\n",
      "{'loss': 0.6812, 'grad_norm': 1.2141214609146118, 'learning_rate': 3e-06, 'epoch': 0.42}\n",
      "{'loss': 0.6718, 'grad_norm': 1.1345133781433105, 'learning_rate': 4.000000000000001e-06, 'epoch': 0.56}\n",
      "{'loss': 0.6464, 'grad_norm': 3.1499133110046387, 'learning_rate': 5e-06, 'epoch': 0.7}\n"
     ]
    },
    {
     "data": {
      "application/vnd.jupyter.widget-view+json": {
       "model_id": "aa87dc3c89154f2a90b62341dfaac853",
       "version_major": 2,
       "version_minor": 0
      },
      "text/plain": [
       "  0%|          | 0/31 [00:00<?, ?it/s]"
      ]
     },
     "metadata": {},
     "output_type": "display_data"
    },
    {
     "name": "stderr",
     "output_type": "stream",
     "text": [
      "c:\\Users\\Matt\\AppData\\Local\\Programs\\Python\\Python310\\lib\\site-packages\\sklearn\\metrics\\_classification.py:1471: UndefinedMetricWarning: Precision and F-score are ill-defined and being set to 0.0 due to no predicted samples. Use `zero_division` parameter to control this behavior.\n",
      "  _warn_prf(average, modifier, msg_start, len(result))\n"
     ]
    },
    {
     "name": "stdout",
     "output_type": "stream",
     "text": [
      "{'eval_loss': 0.6378305554389954, 'eval_precision': 0.0, 'eval_recall': 0.0, 'eval_f1': 0.0, 'eval_runtime': 4.4975, 'eval_samples_per_second': 53.808, 'eval_steps_per_second': 6.893, 'epoch': 0.7}\n",
      "{'loss': 0.6129, 'grad_norm': 2.075239419937134, 'learning_rate': 6e-06, 'epoch': 0.85}\n",
      "{'loss': 0.5472, 'grad_norm': 1.5237269401550293, 'learning_rate': 7.000000000000001e-06, 'epoch': 0.99}\n"
     ]
    },
    {
     "data": {
      "application/vnd.jupyter.widget-view+json": {
       "model_id": "dba084ae8dec4f41b8877311fd0867a1",
       "version_major": 2,
       "version_minor": 0
      },
      "text/plain": [
       "  0%|          | 0/31 [00:00<?, ?it/s]"
      ]
     },
     "metadata": {},
     "output_type": "display_data"
    },
    {
     "name": "stderr",
     "output_type": "stream",
     "text": [
      "c:\\Users\\Matt\\AppData\\Local\\Programs\\Python\\Python310\\lib\\site-packages\\sklearn\\metrics\\_classification.py:1471: UndefinedMetricWarning: Precision and F-score are ill-defined and being set to 0.0 due to no predicted samples. Use `zero_division` parameter to control this behavior.\n",
      "  _warn_prf(average, modifier, msg_start, len(result))\n"
     ]
    },
    {
     "name": "stdout",
     "output_type": "stream",
     "text": [
      "{'eval_loss': 0.480112761259079, 'eval_precision': 0.0, 'eval_recall': 0.0, 'eval_f1': 0.0, 'eval_runtime': 4.5, 'eval_samples_per_second': 53.778, 'eval_steps_per_second': 6.889, 'epoch': 1.06}\n",
      "{'loss': 0.5074, 'grad_norm': 1.7716951370239258, 'learning_rate': 8.000000000000001e-06, 'epoch': 1.13}\n",
      "{'loss': 0.4726, 'grad_norm': 1.439871907234192, 'learning_rate': 9e-06, 'epoch': 1.27}\n",
      "{'loss': 0.4345, 'grad_norm': 1.7503074407577515, 'learning_rate': 1e-05, 'epoch': 1.41}\n"
     ]
    },
    {
     "data": {
      "application/vnd.jupyter.widget-view+json": {
       "model_id": "b58d70fe16584e44b809a50de9dc7e94",
       "version_major": 2,
       "version_minor": 0
      },
      "text/plain": [
       "  0%|          | 0/31 [00:00<?, ?it/s]"
      ]
     },
     "metadata": {},
     "output_type": "display_data"
    },
    {
     "name": "stdout",
     "output_type": "stream",
     "text": [
      "{'eval_loss': 0.3946533799171448, 'eval_precision': 0.9764705882352941, 'eval_recall': 0.21957671957671956, 'eval_f1': 0.3585313174946004, 'eval_runtime': 4.499, 'eval_samples_per_second': 53.789, 'eval_steps_per_second': 6.89, 'epoch': 1.41}\n",
      "{'loss': 0.4081, 'grad_norm': 1.4410768747329712, 'learning_rate': 1.1000000000000001e-05, 'epoch': 1.55}\n",
      "{'loss': 0.3604, 'grad_norm': 1.7180413007736206, 'learning_rate': 1.2e-05, 'epoch': 1.69}\n"
     ]
    },
    {
     "data": {
      "application/vnd.jupyter.widget-view+json": {
       "model_id": "c71f3464fb0a4b37a84d68248c3dd58f",
       "version_major": 2,
       "version_minor": 0
      },
      "text/plain": [
       "  0%|          | 0/31 [00:00<?, ?it/s]"
      ]
     },
     "metadata": {},
     "output_type": "display_data"
    },
    {
     "name": "stdout",
     "output_type": "stream",
     "text": [
      "{'eval_loss': 0.3142295479774475, 'eval_precision': 0.9008264462809917, 'eval_recall': 0.5767195767195767, 'eval_f1': 0.7032258064516129, 'eval_runtime': 4.9997, 'eval_samples_per_second': 48.403, 'eval_steps_per_second': 6.2, 'epoch': 1.76}\n",
      "{'loss': 0.3483, 'grad_norm': 2.2748496532440186, 'learning_rate': 1.3000000000000001e-05, 'epoch': 1.83}\n",
      "{'loss': 0.333, 'grad_norm': 1.8120030164718628, 'learning_rate': 1.4000000000000001e-05, 'epoch': 1.97}\n",
      "{'loss': 0.284, 'grad_norm': 2.705533027648926, 'learning_rate': 1.5e-05, 'epoch': 2.11}\n"
     ]
    },
    {
     "data": {
      "application/vnd.jupyter.widget-view+json": {
       "model_id": "b317158a9356457cbef9fb4a7a417ffd",
       "version_major": 2,
       "version_minor": 0
      },
      "text/plain": [
       "  0%|          | 0/31 [00:00<?, ?it/s]"
      ]
     },
     "metadata": {},
     "output_type": "display_data"
    },
    {
     "name": "stdout",
     "output_type": "stream",
     "text": [
      "{'eval_loss': 0.2656218707561493, 'eval_precision': 0.888135593220339, 'eval_recall': 0.6931216931216931, 'eval_f1': 0.7786032689450223, 'eval_runtime': 4.4981, 'eval_samples_per_second': 53.801, 'eval_steps_per_second': 6.892, 'epoch': 2.11}\n",
      "{'loss': 0.2619, 'grad_norm': 1.4024584293365479, 'learning_rate': 1.6000000000000003e-05, 'epoch': 2.25}\n",
      "{'loss': 0.2478, 'grad_norm': 1.6559019088745117, 'learning_rate': 1.7000000000000003e-05, 'epoch': 2.39}\n"
     ]
    },
    {
     "data": {
      "application/vnd.jupyter.widget-view+json": {
       "model_id": "bb0ff432a8104841aa2cf5af221d9532",
       "version_major": 2,
       "version_minor": 0
      },
      "text/plain": [
       "  0%|          | 0/31 [00:00<?, ?it/s]"
      ]
     },
     "metadata": {},
     "output_type": "display_data"
    },
    {
     "name": "stdout",
     "output_type": "stream",
     "text": [
      "{'eval_loss': 0.2202891856431961, 'eval_precision': 0.9255663430420712, 'eval_recall': 0.7566137566137566, 'eval_f1': 0.8326055312954876, 'eval_runtime': 4.5038, 'eval_samples_per_second': 53.732, 'eval_steps_per_second': 6.883, 'epoch': 2.46}\n",
      "{'loss': 0.2384, 'grad_norm': 2.2262051105499268, 'learning_rate': 1.8e-05, 'epoch': 2.54}\n",
      "{'loss': 0.2226, 'grad_norm': 2.2971575260162354, 'learning_rate': 1.9e-05, 'epoch': 2.68}\n",
      "{'loss': 0.2156, 'grad_norm': 1.6027638912200928, 'learning_rate': 2e-05, 'epoch': 2.82}\n"
     ]
    },
    {
     "data": {
      "application/vnd.jupyter.widget-view+json": {
       "model_id": "391abfb5ad514980b7b628640358a22e",
       "version_major": 2,
       "version_minor": 0
      },
      "text/plain": [
       "  0%|          | 0/31 [00:00<?, ?it/s]"
      ]
     },
     "metadata": {},
     "output_type": "display_data"
    },
    {
     "name": "stdout",
     "output_type": "stream",
     "text": [
      "{'eval_loss': 0.1976104974746704, 'eval_precision': 0.9039039039039038, 'eval_recall': 0.7962962962962963, 'eval_f1': 0.8466947960618847, 'eval_runtime': 4.495, 'eval_samples_per_second': 53.837, 'eval_steps_per_second': 6.897, 'epoch': 2.82}\n",
      "{'loss': 0.2132, 'grad_norm': 1.6336114406585693, 'learning_rate': 2.1e-05, 'epoch': 2.96}\n",
      "{'train_runtime': 153.522, 'train_samples_per_second': 10.982, 'train_steps_per_second': 1.387, 'train_loss': 0.4297500457002523, 'epoch': 3.0}\n"
     ]
    },
    {
     "data": {
      "text/plain": [
       "TrainOutput(global_step=213, training_loss=0.4297500457002523, metrics={'train_runtime': 153.522, 'train_samples_per_second': 10.982, 'train_steps_per_second': 1.387, 'train_loss': 0.4297500457002523, 'epoch': 3.0})"
      ]
     },
     "execution_count": 33,
     "metadata": {},
     "output_type": "execute_result"
    }
   ],
   "source": [
    "trainer.train()"
   ]
  },
  {
   "cell_type": "code",
   "execution_count": 34,
   "metadata": {},
   "outputs": [
    {
     "data": {
      "application/vnd.jupyter.widget-view+json": {
       "model_id": "e5cf809e33b949ee930248fae2b9f1ad",
       "version_major": 2,
       "version_minor": 0
      },
      "text/plain": [
       "  0%|          | 0/31 [00:00<?, ?it/s]"
      ]
     },
     "metadata": {},
     "output_type": "display_data"
    },
    {
     "data": {
      "text/plain": [
       "{'eval_loss': 0.1976104974746704,\n",
       " 'eval_precision': 0.9039039039039038,\n",
       " 'eval_recall': 0.7962962962962963,\n",
       " 'eval_f1': 0.8466947960618847,\n",
       " 'eval_runtime': 4.8825,\n",
       " 'eval_samples_per_second': 49.565,\n",
       " 'eval_steps_per_second': 6.349,\n",
       " 'epoch': 3.0}"
      ]
     },
     "execution_count": 34,
     "metadata": {},
     "output_type": "execute_result"
    }
   ],
   "source": [
    "trainer.evaluate()"
   ]
  },
  {
   "cell_type": "code",
   "execution_count": 35,
   "metadata": {},
   "outputs": [
    {
     "data": {
      "application/vnd.jupyter.widget-view+json": {
       "model_id": "47fcff3b209b439c872c1e30a909e8f8",
       "version_major": 2,
       "version_minor": 0
      },
      "text/plain": [
       "  0%|          | 0/26 [00:00<?, ?it/s]"
      ]
     },
     "metadata": {},
     "output_type": "display_data"
    },
    {
     "name": "stdout",
     "output_type": "stream",
     "text": [
      "{'precision': 0.9188191881918819, 'recall': 0.7980769230769231, 'f1': 0.8542024013722128}\n"
     ]
    }
   ],
   "source": [
    "# evaluate on test set\n",
    "test_results = trainer.predict(test_encodings)\n",
    "\n",
    "test_metrics = compute_metrics(test_results)\n",
    "print(test_metrics)"
   ]
  },
  {
   "cell_type": "code",
   "execution_count": 36,
   "metadata": {},
   "outputs": [],
   "source": [
    "model_results.append(\n",
    "    {\n",
    "        \"model\": \"RoBERTa\",\n",
    "        \"precision\": test_metrics[\"precision\"],\n",
    "        \"recall\": test_metrics[\"recall\"],\n",
    "        \"f1\": test_metrics[\"f1\"],\n",
    "    }\n",
    ")"
   ]
  },
  {
   "cell_type": "markdown",
   "metadata": {},
   "source": [
    "# Model Results"
   ]
  },
  {
   "cell_type": "code",
   "execution_count": 37,
   "metadata": {},
   "outputs": [
    {
     "data": {
      "text/html": [
       "<div>\n",
       "<style scoped>\n",
       "    .dataframe tbody tr th:only-of-type {\n",
       "        vertical-align: middle;\n",
       "    }\n",
       "\n",
       "    .dataframe tbody tr th {\n",
       "        vertical-align: top;\n",
       "    }\n",
       "\n",
       "    .dataframe thead th {\n",
       "        text-align: right;\n",
       "    }\n",
       "</style>\n",
       "<table border=\"1\" class=\"dataframe\">\n",
       "  <thead>\n",
       "    <tr style=\"text-align: right;\">\n",
       "      <th></th>\n",
       "      <th>model</th>\n",
       "      <th>precision</th>\n",
       "      <th>recall</th>\n",
       "      <th>f1</th>\n",
       "    </tr>\n",
       "  </thead>\n",
       "  <tbody>\n",
       "    <tr>\n",
       "      <th>0</th>\n",
       "      <td>Binary Relevance LR</td>\n",
       "      <td>0.891892</td>\n",
       "      <td>0.634615</td>\n",
       "      <td>0.741573</td>\n",
       "    </tr>\n",
       "    <tr>\n",
       "      <th>1</th>\n",
       "      <td>RoBERTa</td>\n",
       "      <td>0.918819</td>\n",
       "      <td>0.798077</td>\n",
       "      <td>0.854202</td>\n",
       "    </tr>\n",
       "  </tbody>\n",
       "</table>\n",
       "</div>"
      ],
      "text/plain": [
       "                 model  precision    recall        f1\n",
       "0  Binary Relevance LR   0.891892  0.634615  0.741573\n",
       "1              RoBERTa   0.918819  0.798077  0.854202"
      ]
     },
     "execution_count": 37,
     "metadata": {},
     "output_type": "execute_result"
    }
   ],
   "source": [
    "# plot model results\n",
    "model_results_df = pd.DataFrame(model_results)\n",
    "model_results_df"
   ]
  },
  {
   "cell_type": "code",
   "execution_count": 38,
   "metadata": {},
   "outputs": [
    {
     "data": {
      "text/html": [
       "<div>\n",
       "<style scoped>\n",
       "    .dataframe tbody tr th:only-of-type {\n",
       "        vertical-align: middle;\n",
       "    }\n",
       "\n",
       "    .dataframe tbody tr th {\n",
       "        vertical-align: top;\n",
       "    }\n",
       "\n",
       "    .dataframe thead th {\n",
       "        text-align: right;\n",
       "    }\n",
       "</style>\n",
       "<table border=\"1\" class=\"dataframe\">\n",
       "  <thead>\n",
       "    <tr style=\"text-align: right;\">\n",
       "      <th></th>\n",
       "      <th>model</th>\n",
       "      <th>metric</th>\n",
       "      <th>value</th>\n",
       "    </tr>\n",
       "  </thead>\n",
       "  <tbody>\n",
       "    <tr>\n",
       "      <th>0</th>\n",
       "      <td>Binary Relevance LR</td>\n",
       "      <td>precision</td>\n",
       "      <td>0.891892</td>\n",
       "    </tr>\n",
       "    <tr>\n",
       "      <th>1</th>\n",
       "      <td>RoBERTa</td>\n",
       "      <td>precision</td>\n",
       "      <td>0.918819</td>\n",
       "    </tr>\n",
       "    <tr>\n",
       "      <th>2</th>\n",
       "      <td>Binary Relevance LR</td>\n",
       "      <td>recall</td>\n",
       "      <td>0.634615</td>\n",
       "    </tr>\n",
       "    <tr>\n",
       "      <th>3</th>\n",
       "      <td>RoBERTa</td>\n",
       "      <td>recall</td>\n",
       "      <td>0.798077</td>\n",
       "    </tr>\n",
       "    <tr>\n",
       "      <th>4</th>\n",
       "      <td>Binary Relevance LR</td>\n",
       "      <td>f1</td>\n",
       "      <td>0.741573</td>\n",
       "    </tr>\n",
       "    <tr>\n",
       "      <th>5</th>\n",
       "      <td>RoBERTa</td>\n",
       "      <td>f1</td>\n",
       "      <td>0.854202</td>\n",
       "    </tr>\n",
       "  </tbody>\n",
       "</table>\n",
       "</div>"
      ],
      "text/plain": [
       "                 model     metric     value\n",
       "0  Binary Relevance LR  precision  0.891892\n",
       "1              RoBERTa  precision  0.918819\n",
       "2  Binary Relevance LR     recall  0.634615\n",
       "3              RoBERTa     recall  0.798077\n",
       "4  Binary Relevance LR         f1  0.741573\n",
       "5              RoBERTa         f1  0.854202"
      ]
     },
     "execution_count": 38,
     "metadata": {},
     "output_type": "execute_result"
    }
   ],
   "source": [
    "# stack precision, recall, f1\n",
    "model_results_df = model_results_df.melt(id_vars=\"model\", var_name=\"metric\")\n",
    "model_results_df"
   ]
  },
  {
   "cell_type": "code",
   "execution_count": 43,
   "metadata": {},
   "outputs": [
    {
     "name": "stderr",
     "output_type": "stream",
     "text": [
      "c:\\Users\\Matt\\AppData\\Local\\Programs\\Python\\Python310\\lib\\site-packages\\seaborn\\_oldcore.py:1498: FutureWarning: is_categorical_dtype is deprecated and will be removed in a future version. Use isinstance(dtype, CategoricalDtype) instead\n",
      "  if pd.api.types.is_categorical_dtype(vector):\n",
      "c:\\Users\\Matt\\AppData\\Local\\Programs\\Python\\Python310\\lib\\site-packages\\seaborn\\_oldcore.py:1498: FutureWarning: is_categorical_dtype is deprecated and will be removed in a future version. Use isinstance(dtype, CategoricalDtype) instead\n",
      "  if pd.api.types.is_categorical_dtype(vector):\n",
      "c:\\Users\\Matt\\AppData\\Local\\Programs\\Python\\Python310\\lib\\site-packages\\seaborn\\_oldcore.py:1498: FutureWarning: is_categorical_dtype is deprecated and will be removed in a future version. Use isinstance(dtype, CategoricalDtype) instead\n",
      "  if pd.api.types.is_categorical_dtype(vector):\n",
      "c:\\Users\\Matt\\AppData\\Local\\Programs\\Python\\Python310\\lib\\site-packages\\seaborn\\_oldcore.py:1498: FutureWarning: is_categorical_dtype is deprecated and will be removed in a future version. Use isinstance(dtype, CategoricalDtype) instead\n",
      "  if pd.api.types.is_categorical_dtype(vector):\n"
     ]
    },
    {
     "data": {
      "image/png": "[encoded data removed]",
      "text/plain": [
       "<Figure size 1200x600 with 1 Axes>"
      ]
     },
     "metadata": {},
     "output_type": "display_data"
    }
   ],
   "source": [
    "# plot results\n",
    "plt.figure(figsize=(12, 6))\n",
    "sns.barplot(\n",
    "    x=\"model\", y=\"value\", hue=\"metric\", data=model_results_df, palette=\"gray\"\n",
    ")\n",
    "plt.title(\"Model Performance\")\n",
    "plt.show()"
   ]
  },
  {
   "cell_type": "code",
   "execution_count": null,
   "metadata": {},
   "outputs": [],
   "source": []
  }
 ],
 "metadata": {
  "kernelspec": {
   "display_name": "Python 3",
   "language": "python",
   "name": "python3"
  },
  "language_info": {
   "codemirror_mode": {
    "name": "ipython",
    "version": 3
   },
   "file_extension": ".py",
   "mimetype": "text/x-python",
   "name": "python",
   "nbconvert_exporter": "python",
   "pygments_lexer": "ipython3",
   "version": "3.10.6"
  }
 },
 "nbformat": 4,
 "nbformat_minor": 2
}
