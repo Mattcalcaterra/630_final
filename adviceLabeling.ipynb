{
 "cells": [
  {
   "cell_type": "code",
   "execution_count": 177,
   "metadata": {},
   "outputs": [],
   "source": [
    "# Load base packages\n",
    "import pandas as pd\n",
    "import numpy as np\n",
    "import matplotlib.pyplot as plt\n",
    "import seaborn as sns\n",
    "import os\n",
    "\n",
    "# load dataset tools\n",
    "import datasets\n",
    "from datasets import load_dataset\n",
    "\n",
    "# preprocessing tools\n",
    "from sklearn.preprocessing import OneHotEncoder\n",
    "\n",
    "# load models\n",
    "\n",
    "\n",
    "# load eval tools\n",
    "from sklearn.model_selection import train_test_split\n",
    "from sklearn.metrics import precision_recall_fscore_support"
   ]
  },
  {
   "cell_type": "markdown",
   "metadata": {},
   "source": [
    "# Load Data"
   ]
  },
  {
   "cell_type": "code",
   "execution_count": 178,
   "metadata": {},
   "outputs": [],
   "source": [
    "anno_df = pd.read_csv(\"data/AnnotatedData/AnnotatedDUGData.tsv\", sep=\"\\t\")\n",
    "load_shape = anno_df.shape"
   ]
  },
  {
   "cell_type": "markdown",
   "metadata": {},
   "source": [
    "# Prepare data"
   ]
  },
  {
   "cell_type": "code",
   "execution_count": 179,
   "metadata": {},
   "outputs": [],
   "source": [
    "# we will drop the columns which we are not interested in\n",
    "anno_df = anno_df[\n",
    "    [\n",
    "        \"Drug number\",\n",
    "        \"Line number\",\n",
    "        \"Advice Text\",\n",
    "        \"AdviceTag1\",\n",
    "        \"AdviceTag2\",\n",
    "        \"AdviceTag3\",\n",
    "        \"AdviceTag4\",\n",
    "    ]\n",
    "]"
   ]
  },
  {
   "cell_type": "markdown",
   "metadata": {},
   "source": [
    "## Extract label_ids"
   ]
  },
  {
   "cell_type": "code",
   "execution_count": 180,
   "metadata": {},
   "outputs": [
    {
     "data": {
      "text/plain": [
       "8"
      ]
     },
     "execution_count": 180,
     "metadata": {},
     "output_type": "execute_result"
    }
   ],
   "source": [
    "labels = (\n",
    "    anno_df[[\"AdviceTag1\", \"AdviceTag2\", \"AdviceTag3\", \"AdviceTag4\"]]\n",
    "    .fillna(\"\")\n",
    "    .astype(str)\n",
    ")\n",
    "\n",
    "label_ids = list(set(labels.values.flatten()))\n",
    "\n",
    "# remove the empty string\n",
    "label_ids.remove(\"\")\n",
    "\n",
    "\n",
    "\n",
    "n_label_ids = len(label_ids)\n",
    "n_label_ids"
   ]
  },
  {
   "cell_type": "markdown",
   "metadata": {},
   "source": [
    "## Encode advice labels"
   ]
  },
  {
   "cell_type": "code",
   "execution_count": 181,
   "metadata": {},
   "outputs": [
    {
     "data": {
      "text/html": [
       "<div>\n",
       "<style scoped>\n",
       "    .dataframe tbody tr th:only-of-type {\n",
       "        vertical-align: middle;\n",
       "    }\n",
       "\n",
       "    .dataframe tbody tr th {\n",
       "        vertical-align: top;\n",
       "    }\n",
       "\n",
       "    .dataframe thead th {\n",
       "        text-align: right;\n",
       "    }\n",
       "</style>\n",
       "<table border=\"1\" class=\"dataframe\">\n",
       "  <thead>\n",
       "    <tr style=\"text-align: right;\">\n",
       "      <th></th>\n",
       "      <th>Drug number</th>\n",
       "      <th>Line number</th>\n",
       "      <th>Advice Text</th>\n",
       "      <th>Food or beverage related</th>\n",
       "      <th>Pregnancy related</th>\n",
       "      <th>Drug administration related</th>\n",
       "      <th>Other drugs related</th>\n",
       "      <th>Exercise related</th>\n",
       "      <th>Activity or lifestyle related</th>\n",
       "      <th>Disease or symptom related</th>\n",
       "      <th>Temporal</th>\n",
       "    </tr>\n",
       "  </thead>\n",
       "  <tbody>\n",
       "    <tr>\n",
       "      <th>0</th>\n",
       "      <td>0</td>\n",
       "      <td>34</td>\n",
       "      <td>To reduce the risk of dizziness and lightheade...</td>\n",
       "      <td>0</td>\n",
       "      <td>0</td>\n",
       "      <td>0</td>\n",
       "      <td>0</td>\n",
       "      <td>0</td>\n",
       "      <td>1</td>\n",
       "      <td>0</td>\n",
       "      <td>0</td>\n",
       "    </tr>\n",
       "    <tr>\n",
       "      <th>1</th>\n",
       "      <td>0</td>\n",
       "      <td>38</td>\n",
       "      <td>This medication may rarely make your blood sug...</td>\n",
       "      <td>0</td>\n",
       "      <td>0</td>\n",
       "      <td>0</td>\n",
       "      <td>0</td>\n",
       "      <td>0</td>\n",
       "      <td>0</td>\n",
       "      <td>1</td>\n",
       "      <td>0</td>\n",
       "    </tr>\n",
       "    <tr>\n",
       "      <th>2</th>\n",
       "      <td>0</td>\n",
       "      <td>43</td>\n",
       "      <td>This medication may rarely cause a condition k...</td>\n",
       "      <td>0</td>\n",
       "      <td>0</td>\n",
       "      <td>0</td>\n",
       "      <td>0</td>\n",
       "      <td>0</td>\n",
       "      <td>0</td>\n",
       "      <td>1</td>\n",
       "      <td>0</td>\n",
       "    </tr>\n",
       "    <tr>\n",
       "      <th>3</th>\n",
       "      <td>0</td>\n",
       "      <td>64</td>\n",
       "      <td>This drug may make you dizzy or drowsy or caus...</td>\n",
       "      <td>0</td>\n",
       "      <td>0</td>\n",
       "      <td>0</td>\n",
       "      <td>0</td>\n",
       "      <td>0</td>\n",
       "      <td>1</td>\n",
       "      <td>1</td>\n",
       "      <td>0</td>\n",
       "    </tr>\n",
       "    <tr>\n",
       "      <th>4</th>\n",
       "      <td>0</td>\n",
       "      <td>66</td>\n",
       "      <td>Avoid alcoholic beverages.</td>\n",
       "      <td>1</td>\n",
       "      <td>0</td>\n",
       "      <td>0</td>\n",
       "      <td>0</td>\n",
       "      <td>0</td>\n",
       "      <td>0</td>\n",
       "      <td>0</td>\n",
       "      <td>0</td>\n",
       "    </tr>\n",
       "  </tbody>\n",
       "</table>\n",
       "</div>"
      ],
      "text/plain": [
       "   Drug number  Line number  \\\n",
       "0            0           34   \n",
       "1            0           38   \n",
       "2            0           43   \n",
       "3            0           64   \n",
       "4            0           66   \n",
       "\n",
       "                                         Advice Text  \\\n",
       "0  To reduce the risk of dizziness and lightheade...   \n",
       "1  This medication may rarely make your blood sug...   \n",
       "2  This medication may rarely cause a condition k...   \n",
       "3  This drug may make you dizzy or drowsy or caus...   \n",
       "4                         Avoid alcoholic beverages.   \n",
       "\n",
       "   Food or beverage related  Pregnancy related  Drug administration related  \\\n",
       "0                         0                  0                            0   \n",
       "1                         0                  0                            0   \n",
       "2                         0                  0                            0   \n",
       "3                         0                  0                            0   \n",
       "4                         1                  0                            0   \n",
       "\n",
       "   Other drugs related  Exercise related  Activity or lifestyle related  \\\n",
       "0                    0                 0                              1   \n",
       "1                    0                 0                              0   \n",
       "2                    0                 0                              0   \n",
       "3                    0                 0                              1   \n",
       "4                    0                 0                              0   \n",
       "\n",
       "   Disease or symptom related  Temporal  \n",
       "0                           0         0  \n",
       "1                           1         0  \n",
       "2                           1         0  \n",
       "3                           1         0  \n",
       "4                           0         0  "
      ]
     },
     "execution_count": 181,
     "metadata": {},
     "output_type": "execute_result"
    }
   ],
   "source": [
    "# Create new columns for each unique tag and initialize them with 0\n",
    "for lab in label_ids:\n",
    "    anno_df[lab] = 0\n",
    "\n",
    "# Update the values to 1 where the tag is present\n",
    "for lab in label_ids:\n",
    "    mask = labels.apply(lambda row: lab in row.values, axis=1)\n",
    "    anno_df.loc[mask, lab] = 1\n",
    "\n",
    "# Drop the original AdviceTag columns\n",
    "anno_df.drop(\n",
    "    columns=[\"AdviceTag1\", \"AdviceTag2\", \"AdviceTag3\", \"AdviceTag4\"],\n",
    "    inplace=True,\n",
    ")\n",
    "\n",
    "# Save the transformed data to a new file\n",
    "anno_df.head()"
   ]
  },
  {
   "cell_type": "markdown",
   "metadata": {},
   "source": [
    "### Ensure the encoding was correct"
   ]
  },
  {
   "cell_type": "code",
   "execution_count": 182,
   "metadata": {},
   "outputs": [],
   "source": [
    "assert anno_df.shape[0] == load_shape[0], \"Mismatch in number of rows\""
   ]
  },
  {
   "cell_type": "markdown",
   "metadata": {},
   "source": [
    "# Baseline Predictions\n"
   ]
  },
  {
   "cell_type": "markdown",
   "metadata": {},
   "source": [
    "Two baselines will be tested with for the multilabel classification task.\n",
    "\n",
    "The first baseline will be a random baseline, where the labels are randomly assigned to the advice text.\n",
    "\n",
    "The second baseline will be a majority class baseline, where the most common label is assigned to all advice text.\n",
    "\n",
    "The baselines will be evaluated using the F1 score, Precision, and Recall."
   ]
  },
  {
   "cell_type": "code",
   "execution_count": 183,
   "metadata": {},
   "outputs": [],
   "source": [
    "def rand_baseline_pred(dataset, n_labels=8):\n",
    "    \"\"\"\n",
    "    Randomly predicts a label for each example in the dataset.\n",
    "\n",
    "    Args:\n",
    "        dataset (datasets.Dataset): The dataset to predict labels for.\n",
    "\n",
    "    Returns:\n",
    "        np.ndarray: The predicted labels.\n",
    "    \"\"\"\n",
    "\n",
    "    return np.random.randint(0, 2, size=(len(dataset), n_labels))"
   ]
  },
  {
   "cell_type": "code",
   "execution_count": 184,
   "metadata": {},
   "outputs": [],
   "source": [
    "def mode_baseline_pred(dataset, n_labels=8):\n",
    "    \"\"\"\n",
    "    Predicts the most common label for each label_id in the dataset.\n",
    "\n",
    "    Args:\n",
    "        dataset (datasets.Dataset): The dataset to predict labels for.\n",
    "\n",
    "    Returns:\n",
    "        np.ndarray: The predicted labels.\n",
    "    \"\"\"\n",
    "\n",
    "    label_ids = list(dataset.features.keys())\n",
    "    label_ids = label_ids[len(label_ids) - n_labels :]\n",
    "\n",
    "    # can use median since our labels are binary\n",
    "    modes = np.array([np.median(dataset[label_id]) for label_id in label_ids])\n",
    "\n",
    "    return np.tile(modes, (len(dataset), 1))"
   ]
  },
  {
   "cell_type": "markdown",
   "metadata": {},
   "source": [
    "## Load data into dataset"
   ]
  },
  {
   "cell_type": "code",
   "execution_count": 185,
   "metadata": {},
   "outputs": [],
   "source": [
    "multi_label = datasets.Dataset.from_pandas(anno_df)"
   ]
  },
  {
   "cell_type": "markdown",
   "metadata": {},
   "source": [
    "## Evaluate the baseline"
   ]
  },
  {
   "cell_type": "markdown",
   "metadata": {},
   "source": [
    "### Identify ground truth labels"
   ]
  },
  {
   "cell_type": "code",
   "execution_count": 186,
   "metadata": {},
   "outputs": [],
   "source": [
    "ground_truth = anno_df[label_ids].values"
   ]
  },
  {
   "cell_type": "code",
   "execution_count": 189,
   "metadata": {},
   "outputs": [],
   "source": [
    "assert ground_truth.shape[0] == load_shape[0], \"Mismatch in number of rows\"\n",
    "assert ground_truth.shape[1] == n_label_ids, \"Mismatch in number of columns\""
   ]
  },
  {
   "cell_type": "markdown",
   "metadata": {},
   "source": [
    "### Make predictions and evaluate"
   ]
  },
  {
   "cell_type": "markdown",
   "metadata": {},
   "source": [
    "#### Random Baseline"
   ]
  },
  {
   "cell_type": "code",
   "execution_count": 190,
   "metadata": {},
   "outputs": [
    {
     "name": "stdout",
     "output_type": "stream",
     "text": [
      "(1005, 8)\n",
      "Random Precision: 0.20787637088733799, Recall: 0.5176908752327747, F1: 0.2966388049084119\n"
     ]
    }
   ],
   "source": [
    "# make predictions\n",
    "rand_preds = rand_baseline_pred(multi_label)\n",
    "print(rand_preds.shape)\n",
    "precision, recall, f1, _ = precision_recall_fscore_support(\n",
    "    ground_truth, rand_preds, average=\"micro\"\n",
    ")\n",
    "print(f\"Random Precision: {precision}, Recall: {recall}, F1: {f1}\")"
   ]
  },
  {
   "cell_type": "markdown",
   "metadata": {},
   "source": [
    "#### Most common class baseline"
   ]
  },
  {
   "cell_type": "code",
   "execution_count": 191,
   "metadata": {},
   "outputs": [
    {
     "name": "stdout",
     "output_type": "stream",
     "text": [
      "(1005, 8)\n",
      "Mode Precision: 0.20787637088733799, Recall: 0.5176908752327747, F1: 0.2966388049084119\n"
     ]
    }
   ],
   "source": [
    "mode_preds = mode_baseline_pred(multi_label)\n",
    "print(mode_preds.shape)\n",
    "precision, recall, f1, _ = precision_recall_fscore_support(\n",
    "    ground_truth, rand_preds, average=\"micro\"\n",
    ")\n",
    "print(f\"Mode Precision: {precision}, Recall: {recall}, F1: {f1}\")"
   ]
  }
 ],
 "metadata": {
  "kernelspec": {
   "display_name": "Python 3",
   "language": "python",
   "name": "python3"
  },
  "language_info": {
   "codemirror_mode": {
    "name": "ipython",
    "version": 3
   },
   "file_extension": ".py",
   "mimetype": "text/x-python",
   "name": "python",
   "nbconvert_exporter": "python",
   "pygments_lexer": "ipython3",
   "version": "3.10.6"
  }
 },
 "nbformat": 4,
 "nbformat_minor": 2
}
